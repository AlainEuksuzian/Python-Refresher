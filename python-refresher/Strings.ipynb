{
 "cells": [
  {
   "cell_type": "markdown",
   "metadata": {},
   "source": [
    "Write a program that gets strings containing a person’s first and last name as separate \n",
    "values, and then displays their “initials”, “name in address book”, and “username”. For \n",
    "example, if the user enters a first name of “John” and a last name of “Smith”, the program \n",
    "should display “J.S.”, “John SMITH”, and “jsmith”."
   ]
  },
  {
   "cell_type": "code",
   "execution_count": 6,
   "metadata": {},
   "outputs": [
    {
     "name": "stdout",
     "output_type": "stream",
     "text": [
      "the first name is: alain\n",
      "the last name is: euksuzian\n",
      "the initials are: AE\n",
      "full name is: alain euksuzian\n",
      "username is: aeuksuzian\n"
     ]
    }
   ],
   "source": [
    "def main():\n",
    "    first, last = get_user_name()\n",
    "    initials = (first[0:1]+ last[0:1]).upper()\n",
    "    full_name = first + \" \" + last\n",
    "    username = first[0:1]+ last\n",
    "\n",
    "    print(f'the first name is: {first}\\nthe last name is: {last}\\nthe initials are: {initials}\\nfull name is: {full_name}\\nusername is: {username}') \n",
    "\n",
    "def get_user_name():\n",
    "    fname = input(\"enter your first name: \")\n",
    "    lname = input(\"enter your last name: \")\n",
    "    return fname, lname\n",
    "\n",
    "\n",
    "main()"
   ]
  },
  {
   "cell_type": "markdown",
   "metadata": {},
   "source": [
    "2. Sum of Digits in a String\n",
    "Write a program that asks the user to enter a series of single-digit numbers with nothing \n",
    "separating them. The program should display the sum of all the single digit numbers in the \n",
    "string. For example, if the user enters 2514, the method should return 12, which is the sum \n",
    "of 2, 5, 1, and 4."
   ]
  },
  {
   "cell_type": "code",
   "execution_count": 16,
   "metadata": {},
   "outputs": [
    {
     "name": "stdout",
     "output_type": "stream",
     "text": [
      "12\n"
     ]
    }
   ],
   "source": [
    "def main():\n",
    "    user_input = input(\"enter numbers not seperated: \")\n",
    "    sum = get_sum(user_input)\n",
    "    print(sum)\n",
    "\n",
    "def get_sum(num: str):\n",
    "    sum = 0\n",
    "    for i in num:\n",
    "        sum += int(i)\n",
    "    return sum\n",
    "\n",
    "\n",
    "main()"
   ]
  },
  {
   "cell_type": "code",
   "execution_count": 2,
   "metadata": {},
   "outputs": [
    {
     "name": "stdout",
     "output_type": "stream",
     "text": [
      "12\n"
     ]
    }
   ],
   "source": [
    "#appraoch 2\n",
    "\n",
    "def getsumm(word : str):\n",
    "    if (len(word) == 0):\n",
    "        return 0\n",
    "    else:\n",
    "        return getsumm(word[1:]) + int(word[0])\n",
    "    \n",
    "print(getsumm('2514'))"
   ]
  },
  {
   "cell_type": "markdown",
   "metadata": {},
   "source": [
    "3. Date Printer\n",
    "Write a program that reads a string from the user containing a date in the form mm/dd/yyyy. \n",
    "It should print the date in the format March 12, 2018."
   ]
  },
  {
   "cell_type": "code",
   "execution_count": 4,
   "metadata": {},
   "outputs": [
    {
     "name": "stdout",
     "output_type": "stream",
     "text": [
      "January 01, 2023\n"
     ]
    }
   ],
   "source": [
    "def main():\n",
    "    date_input = input(\"enter a date in form mm/dd/yyyy: \")\n",
    "    date_parser = date_input.split('/')\n",
    "    print(f'{month_converter(int(date_parser[0]))} {date_parser[1]}, {date_parser[2]}')\n",
    "\n",
    "def month_converter(month: int):\n",
    "    months = ['January', 'February', 'March', 'April', 'May', 'June', 'July', 'August', 'September', 'October', 'November', 'December']\n",
    "    return months[month - 1]\n",
    "\n",
    "main()"
   ]
  },
  {
   "cell_type": "markdown",
   "metadata": {},
   "source": [
    "4. Morse Code Converter\n",
    "Morse code is a code where each letter of the English alphabet, each digit, and various \n",
    "punctuation characters are represented by a series of dots and dashes. Table 8-4 shows part \n",
    "of the code.\n",
    "Write a program that asks the user to enter a string, then converts that string to Morse code."
   ]
  },
  {
   "cell_type": "code",
   "execution_count": 13,
   "metadata": {},
   "outputs": [
    {
     "name": "stdout",
     "output_type": "stream",
     "text": [
      "\n"
     ]
    }
   ],
   "source": [
    "def main():\n",
    "    print(morse_converter('1234'))\n",
    "\n",
    "\n",
    "def morse_converter(word):\n",
    "    morse_code = {\" \": ' ', ' ':'- - . . - -', '.': '. - . - . -', \"?\": '. . - - . .', '0':'- - - - -', \n",
    "                  '1':'. - - - -', '2':'. . - - -', '3':'. . . - -','4':'. . . . -','5':'. . . . .','6':\"- . . . .\", '7':\"- - . . .\",'8':\"- - - . .\", '9':\"- - - - .\"}\n",
    "    morse_output = \"\"\n",
    "    for i in word:\n",
    "        if i in morse_code.values():\n",
    "            morse_output += morse_code[i]\n",
    "    return morse_output\n",
    "\n",
    "main()\n"
   ]
  },
  {
   "cell_type": "markdown",
   "metadata": {},
   "source": [
    "6. Average Number of Words\n",
    "If you have downloaded the source code from the Premium Companion Website you will \n",
    "find a file named text.txt in the Chapter 08 folder. The text that is in the file is stored \n",
    "as one sentence per line. Write a program that reads the file’s contents and calculates the \n",
    "average number of words per sentence.\n",
    "(You can access the Premium Companion Website at www.pearsonglobaleditions.com/gaddis."
   ]
  },
  {
   "cell_type": "code",
   "execution_count": 21,
   "metadata": {},
   "outputs": [
    {
     "name": "stdout",
     "output_type": "stream",
     "text": [
      "the average value of the numeric data is: 4.5\n"
     ]
    }
   ],
   "source": [
    "def main():\n",
    "    path  = r'C:\\Users\\Alain E\\Desktop\\python\\python-refresher\\textFiles\\text.txt'\n",
    "    print(f'the average value of the numeric data is: {get_average(path)}')\n",
    "\n",
    "\n",
    "def get_average(file_path):\n",
    "    sum = 0\n",
    "    count = 0\n",
    "    with open(file_path) as text_file:\n",
    "        for line in text_file:\n",
    "            for each in line:\n",
    "                if each.isdigit():\n",
    "                    sum += int(each)\n",
    "                    count += 1\n",
    "    return sum / count if count > 0 else 0\n",
    "                \n",
    "main()"
   ]
  },
  {
   "cell_type": "markdown",
   "metadata": {},
   "source": [
    "8. Sentence Capitalizer\n",
    "Write a program with a function that accepts a string as an argument and returns a copy \n",
    "of the string with the first character of each sentence capitalized. For instance, if the argu\u0002ment is “hello. my name is Joe. what is your name?” the function should return the string \n",
    "“Hello. My name is Joe. What is your name?” The program should let the user enter \n",
    "a string and then pass it to the function. The modified string should be displayed."
   ]
  },
  {
   "cell_type": "code",
   "execution_count": 65,
   "metadata": {},
   "outputs": [
    {
     "name": "stdout",
     "output_type": "stream",
     "text": [
      "Hello. My name is Joe. What is your name?\n"
     ]
    }
   ],
   "source": [
    "def main():\n",
    "    sentence_input = input('Enter a sentence with no capital letter: ')\n",
    "    adjusted_capitalized_sentence = sentence_capitalizer(sentence_input)\n",
    "    print(adjusted_capitalized_sentence)\n",
    "\n",
    "def sentence_capitalizer(sentence: str):\n",
    "    if not sentence:\n",
    "        return \"The sentence is empty.\"\n",
    "\n",
    "    sentence_output = [sentence[0].upper()]\n",
    "    i = 1\n",
    "    while i < len(sentence):\n",
    "        if sentence[i] == '.':\n",
    "            sentence_output.append('.')\n",
    "            i += 1\n",
    "            \n",
    "            while i < len(sentence) and sentence[i].isspace():\n",
    "                sentence_output.append(sentence[i])\n",
    "                i += 1\n",
    "            \n",
    "            if i < len(sentence):\n",
    "                sentence_output.append(sentence[i].upper())\n",
    "        else:\n",
    "            sentence_output.append(sentence[i])\n",
    "        i += 1\n",
    "\n",
    "    return ''.join(sentence_output)\n",
    "\n",
    "main()\n"
   ]
  }
 ],
 "metadata": {
  "kernelspec": {
   "display_name": "Python 3",
   "language": "python",
   "name": "python3"
  },
  "language_info": {
   "codemirror_mode": {
    "name": "ipython",
    "version": 3
   },
   "file_extension": ".py",
   "mimetype": "text/x-python",
   "name": "python",
   "nbconvert_exporter": "python",
   "pygments_lexer": "ipython3",
   "version": "3.9.7"
  }
 },
 "nbformat": 4,
 "nbformat_minor": 2
}
