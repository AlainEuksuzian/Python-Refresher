{
 "cells": [
  {
   "cell_type": "markdown",
   "metadata": {},
   "source": [
    "Write a program that gets strings containing a person’s first and last name as separate \n",
    "values, and then displays their “initials”, “name in address book”, and “username”. For \n",
    "example, if the user enters a first name of “John” and a last name of “Smith”, the program \n",
    "should display “J.S.”, “John SMITH”, and “jsmith”."
   ]
  },
  {
   "cell_type": "code",
   "execution_count": 6,
   "metadata": {},
   "outputs": [
    {
     "name": "stdout",
     "output_type": "stream",
     "text": [
      "the first name is: alain\n",
      "the last name is: euksuzian\n",
      "the initials are: AE\n",
      "full name is: alain euksuzian\n",
      "username is: aeuksuzian\n"
     ]
    }
   ],
   "source": [
    "def main():\n",
    "    first, last = get_user_name()\n",
    "    initials = (first[0:1]+ last[0:1]).upper()\n",
    "    full_name = first + \" \" + last\n",
    "    username = first[0:1]+ last\n",
    "\n",
    "    print(f'the first name is: {first}\\nthe last name is: {last}\\nthe initials are: {initials}\\nfull name is: {full_name}\\nusername is: {username}') \n",
    "\n",
    "def get_user_name():\n",
    "    fname = input(\"enter your first name: \")\n",
    "    lname = input(\"enter your last name: \")\n",
    "    return fname, lname\n",
    "\n",
    "\n",
    "main()"
   ]
  },
  {
   "cell_type": "markdown",
   "metadata": {},
   "source": [
    "2. Sum of Digits in a String\n",
    "Write a program that asks the user to enter a series of single-digit numbers with nothing \n",
    "separating them. The program should display the sum of all the single digit numbers in the \n",
    "string. For example, if the user enters 2514, the method should return 12, which is the sum \n",
    "of 2, 5, 1, and 4."
   ]
  },
  {
   "cell_type": "code",
   "execution_count": 16,
   "metadata": {},
   "outputs": [
    {
     "name": "stdout",
     "output_type": "stream",
     "text": [
      "12\n"
     ]
    }
   ],
   "source": [
    "def main():\n",
    "    user_input = input(\"enter numbers not seperated: \")\n",
    "    sum = get_sum(user_input)\n",
    "    print(sum)\n",
    "\n",
    "def get_sum(num: str):\n",
    "    sum = 0\n",
    "    for i in num:\n",
    "        sum += int(i)\n",
    "    return sum\n",
    "\n",
    "\n",
    "main()"
   ]
  },
  {
   "cell_type": "code",
   "execution_count": 2,
   "metadata": {},
   "outputs": [
    {
     "name": "stdout",
     "output_type": "stream",
     "text": [
      "12\n"
     ]
    }
   ],
   "source": [
    "#appraoch 2\n",
    "\n",
    "def getsumm(word : str):\n",
    "    if (len(word) == 0):\n",
    "        return 0\n",
    "    else:\n",
    "        return getsumm(word[1:]) + int(word[0])\n",
    "    \n",
    "print(getsumm('2514'))"
   ]
  }
 ],
 "metadata": {
  "kernelspec": {
   "display_name": "Python 3",
   "language": "python",
   "name": "python3"
  },
  "language_info": {
   "codemirror_mode": {
    "name": "ipython",
    "version": 3
   },
   "file_extension": ".py",
   "mimetype": "text/x-python",
   "name": "python",
   "nbconvert_exporter": "python",
   "pygments_lexer": "ipython3",
   "version": "3.9.7"
  }
 },
 "nbformat": 4,
 "nbformat_minor": 2
}
