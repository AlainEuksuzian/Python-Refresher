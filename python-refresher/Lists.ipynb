{
 "cells": [
  {
   "cell_type": "markdown",
   "metadata": {},
   "source": [
    "1. Valid Number Information\n",
    "Design a program that uses a loop to build a list named valid_numbers that contains only \n",
    "the numbers between 0 and 100 from the numbers list below. The program should then \n",
    "determine and display the total and average of the values in the valid_numbers list.\n",
    "numbers = [74, 19, 105, 20, −2, 67, 77, 124, −45, 38]"
   ]
  },
  {
   "cell_type": "code",
   "execution_count": 4,
   "metadata": {},
   "outputs": [
    {
     "name": "stdout",
     "output_type": "stream",
     "text": [
      "the average is: 49.17 for the list: [74, 19, 20, 67, 77, 38]\n"
     ]
    }
   ],
   "source": [
    "NUMBERS= [74, 19, 105, 20, -2, 67, 77, 124, -45, 38]\n",
    "\n",
    "\n",
    "def valid_number_parser():\n",
    "    valid_numbers = []\n",
    "    sum = 0\n",
    "    counter = 0\n",
    "    for i in NUMBERS:\n",
    "        if (i >= 0 and i <= 100):\n",
    "            valid_numbers.append(i)\n",
    "            sum += i\n",
    "            counter += 1\n",
    "    \n",
    "    return valid_numbers, sum/counter\n",
    "\n",
    "\n",
    "\n",
    "valid_numbers, average = valid_number_parser()\n",
    "\n",
    "\n",
    "print(f'the average is: {round(average,2)} for the list: {valid_numbers}')\n",
    "\n"
   ]
  },
  {
   "cell_type": "markdown",
   "metadata": {},
   "source": [
    "2. Lottery Number Generator\n",
    "Design a program that generates a seven-digit lottery number. The program should gener\u0002ate seven random numbers, each in the range of 0 through 9, and assign each number to a \n",
    "list element. (Random numbers were discussed in Chapter 5.) Then write another loop that \n",
    "displays the contents of the list"
   ]
  },
  {
   "cell_type": "code",
   "execution_count": 15,
   "metadata": {},
   "outputs": [
    {
     "name": "stdout",
     "output_type": "stream",
     "text": [
      "the lottery numbers are: 2  8  3  3  9  4  7  \n",
      "the lottery numbers are: 0  4  6  6  0  0  1  \n",
      "the lottery numbers are: 3  5  8  6  8  3  8  \n",
      "the lottery numbers are: 3  8  8  5  6  9  5  \n",
      "the lottery numbers are: 2  9  3  0  5  8  0  \n"
     ]
    }
   ],
   "source": [
    "import random as rand\n",
    "\n",
    "\n",
    "def main():\n",
    "    lottery_numbers = []\n",
    "    generate_numbers(lottery_numbers)\n",
    "    output_list(lottery_numbers)\n",
    "\n",
    "\n",
    "def generate_numbers(lottery_numbers):\n",
    "    for i in range(7):\n",
    "        lottery_numbers.append(rand.randint(0,9))\n",
    "    \n",
    "\n",
    "def output_list(lottery_numbers):\n",
    "    print('the lottery numbers are:', end=' ')\n",
    "    for i in lottery_numbers:\n",
    "        print(i,\" \", end=\"\")\n",
    "   \n",
    "   \n",
    "\n",
    "for i in range(5):\n",
    "    main()\n",
    "    print()"
   ]
  },
  {
   "cell_type": "markdown",
   "metadata": {},
   "source": [
    "3. Rainfall Statistics\n",
    "Design a program that lets the user enter the total rainfall for each of 12 months into a \n",
    "list. The program should calculate and display the total rainfall for the year, the average \n",
    "monthly rainfall, the months with the highest and lowest amounts."
   ]
  },
  {
   "cell_type": "code",
   "execution_count": 21,
   "metadata": {},
   "outputs": [
    {
     "name": "stdout",
     "output_type": "stream",
     "text": [
      "the total rainfall is 78.0\n",
      "the average rainfall is 6.5\n",
      "the lowest month is January\n",
      "the highest rainfall is December \n"
     ]
    }
   ],
   "source": [
    "#appraoch 1\n",
    "MONTHS = ['January', 'February','March', 'April','May', 'June', 'July', 'August', 'September', 'October', 'November', 'December']\n",
    "\n",
    "def main():\n",
    "    monthly_rainfall = []\n",
    "    monthly_rainfall_recorded, total_rainfall = add_rain_data(monthly_rainfall)\n",
    "    lowest_rainfall, highest_rainfall = calculate_high_low(monthly_rainfall)\n",
    "    average_rainfall = total_rainfall / len(monthly_rainfall)\n",
    "\n",
    "    print(f'the total rainfall is {total_rainfall}\\nthe average rainfall is {round(average_rainfall,2)}\\nthe lowest month is {MONTHS[monthly_rainfall.index(lowest_rainfall)]}\\nthe highest rainfall is {MONTHS[monthly_rainfall.index(highest_rainfall)]} ')\n",
    "    \n",
    "\n",
    "\n",
    "def add_rain_data(monthly_rainfall):\n",
    "    total_rainfall = 0\n",
    "    for i in range(12):\n",
    "        month_input = float(input(f\"enter the data for month {MONTHS[i]}: \"))\n",
    "        monthly_rainfall.append( month_input)\n",
    "        total_rainfall += month_input\n",
    "    return monthly_rainfall, total_rainfall\n",
    "\n",
    "def calculate_high_low(monthly_rainfall):\n",
    "    return min(monthly_rainfall), max(monthly_rainfall)\n",
    "\n",
    "\n",
    "main()\n",
    "\n"
   ]
  },
  {
   "cell_type": "markdown",
   "metadata": {},
   "source": [
    "4. Number Analysis Program\n",
    "Design a program that asks the user to enter a series of 20 numbers. The program should \n",
    "store the numbers in a list then display the following data:\n",
    "•\t The lowest number in the list\n",
    "•\t The highest number in the list\n",
    "•\t The total of the numbers in the list\n",
    "•\t The average of the numbers in the list"
   ]
  },
  {
   "cell_type": "code",
   "execution_count": null,
   "metadata": {},
   "outputs": [
    {
     "name": "stdout",
     "output_type": "stream",
     "text": [
      "the lowest value is 0\n",
      "the highest value is 19\n",
      "the total value of numbers are: 190\n",
      "the average is: 9.5 \n"
     ]
    }
   ],
   "source": [
    "def main():\n",
    "    list_number = add_values_list()  #input 0-19\n",
    "    list_sum , average = get_sum_average(list_number)\n",
    "    lowest_value, largest_value = min(list_number), max(list_number)\n",
    "\n",
    "    print(f'the lowest value is {lowest_value}\\nthe highest value is {largest_value}\\nthe total value of numbers are: {list_sum}\\nthe average is: {average} ')\n",
    "\n",
    "\n",
    "def add_values_list():\n",
    "    list_num = []\n",
    "    for i in range(20):\n",
    "        list_num.append(int(input(\"enter numbers to add to a list:\")))\n",
    "    return list_num\n",
    "\n",
    "def get_sum_average(numbers):\n",
    "    sum = 0\n",
    "    for i in numbers:\n",
    "        sum += i\n",
    "    return sum,  sum / len(numbers)\n",
    "\n",
    "main()\n"
   ]
  },
  {
   "cell_type": "markdown",
   "metadata": {},
   "source": [
    "6. Dice Rolling Function \n",
    "In a program, write a function named roll that accepts an integer argument number_\n",
    "of_throws. The function should generate and return a sorted list of number_of_throws\n",
    "random numbers between 1 and 6. The program should prompt the user to enter a positive \n",
    "integer that is sent to the function, and then print the returned list."
   ]
  },
  {
   "cell_type": "code",
   "execution_count": null,
   "metadata": {},
   "outputs": [
    {
     "name": "stdout",
     "output_type": "stream",
     "text": [
      "\n"
     ]
    }
   ],
   "source": []
  }
 ],
 "metadata": {
  "kernelspec": {
   "display_name": "Python 3",
   "language": "python",
   "name": "python3"
  },
  "language_info": {
   "codemirror_mode": {
    "name": "ipython",
    "version": 3
   },
   "file_extension": ".py",
   "mimetype": "text/x-python",
   "name": "python",
   "nbconvert_exporter": "python",
   "pygments_lexer": "ipython3",
   "version": "3.9.7"
  }
 },
 "nbformat": 4,
 "nbformat_minor": 2
}
