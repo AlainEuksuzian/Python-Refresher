{
 "cells": [
  {
   "cell_type": "markdown",
   "metadata": {},
   "source": [
    "<h3> Question 1</h3>\n",
    "Write a program that asks the user to enter a distance in kilometers, then converts that \n",
    "distance to miles. The conversion formula is as follows:\n",
    "Miles = Kilometers * 0.6214"
   ]
  },
  {
   "cell_type": "code",
   "execution_count": 4,
   "metadata": {},
   "outputs": [
    {
     "name": "stdout",
     "output_type": "stream",
     "text": [
      "5.0km, converted to miles is: 3.11\n"
     ]
    }
   ],
   "source": [
    "CONVERTOR = 0.6214\n",
    "km_user_input =  float(input(\"enter the distance in KM: \"))\n",
    "\n",
    "def km_mile_convertor(km_input: float):\n",
    "    return CONVERTOR * km_input\n",
    "\n",
    "\n",
    "print(f'{km_user_input}km, converted to miles is: {round(km_mile_convertor(km_user_input),2)}')"
   ]
  },
  {
   "cell_type": "markdown",
   "metadata": {},
   "source": [
    "<h3> Question 2</h3>\n",
    "<pre>\n",
    "Python allows you to repeat a string by multiplying it by an integer, e.g. 'Hi' * 3 will give \n",
    "'HiHiHi'. Pretend that this feature does not exist, and instead write a function named \n",
    "repeat that accepts a string and an integer as arguments. The function should return a \n",
    "string of the original string repeated the specified number of times, e.g. repeat('Hi', 3) \n",
    "should return 'HiHiHi'.</pre>"
   ]
  },
  {
   "cell_type": "code",
   "execution_count": 6,
   "metadata": {},
   "outputs": [
    {
     "name": "stdout",
     "output_type": "stream",
     "text": [
      "hihihi"
     ]
    }
   ],
   "source": [
    "word_input = input(\"enter the string to repeat: \")\n",
    "iteration_number = int(input(\"enter the number of iteration desired: \"))\n",
    "\n",
    "def repeat(word : str, times : int):\n",
    "    for i in range(times):\n",
    "        print(word, end=\"\")\n",
    "\n",
    "repeat(word_input, iteration_number)"
   ]
  },
  {
   "cell_type": "markdown",
   "metadata": {},
   "source": [
    "<h3> Question 3</h3>\n",
    "<pre>Many financial experts advise that property owners should insure their homes or buildings \n",
    "for at least 80 percent of the amount it would cost to replace the structure. Write a program \n",
    "that asks the user to enter the replacement cost of a building, then displays the minimum \n",
    "amount of insurance he or she should buy for the property.</pre> "
   ]
  },
  {
   "cell_type": "code",
   "execution_count": 7,
   "metadata": {},
   "outputs": [
    {
     "name": "stdout",
     "output_type": "stream",
     "text": [
      "you should insure at least 80000.0\n"
     ]
    }
   ],
   "source": [
    "home_cost = float(input(\"enter the price of the home: \"))\n",
    "\n",
    "def insurance_calculator(cost : float):\n",
    "    return cost * 0.8\n",
    "\n",
    "print(f'you should insure at least {round(insurance_calculator(home_cost)),2}')"
   ]
  },
  {
   "cell_type": "markdown",
   "metadata": {},
   "source": [
    "<h3> Question 4</h3>\n",
    "Write a program that asks the user to enter the monthly costs for the following expenses \n",
    "incurred from operating his or her automobile: loan payment, insurance, gas, oil, tires, and \n",
    "maintenance. The program should then display the total monthly cost of these expenses, \n",
    "and the total annual cost of these expenses."
   ]
  },
  {
   "cell_type": "code",
   "execution_count": 10,
   "metadata": {},
   "outputs": [
    {
     "name": "stdout",
     "output_type": "stream",
     "text": [
      "the total monthly cost is $210.0, the total yearly cot is $2520.0 \n"
     ]
    }
   ],
   "source": [
    "#approach 1\n",
    "loan_amount_monthly = float(input(\"enter the loan monthly amount: \"))\n",
    "insurance_amount_monthly = float(input(\"enter the monthly insurance cost: \"))\n",
    "gas_amount_monthly = float(input(\"enter the monthly gas price: \"))\n",
    "oil_amount_monthly =  float(input(\"enter the monthly oil expense: \"))\n",
    "tires_amount_monthly = float(input(\"enter the monthly tire cost: \"))\n",
    "maintenance_amount_monthly = float (input(\"enter he monthly maintenance cost:  \"))\n",
    "\n",
    "def monthy_yearly_expense_calc(loan, insurance, gas, oil, tires, maintenance):\n",
    "    monthly = loan+ insurance+ gas+ oil+ tires+ maintenance\n",
    "    yearly = (loan+ insurance+ gas+ oil+ tires+ maintenance) * 12\n",
    "    return monthly, yearly\n",
    "\n",
    "monthly_expense, yearly_expense = monthy_yearly_expense_calc(loan_amount_monthly, insurance_amount_monthly, gas_amount_monthly, \n",
    "                                                             oil_amount_monthly,tires_amount_monthly,maintenance_amount_monthly)\n",
    "\n",
    "print(f'the total monthly cost is ${round(monthly_expense,2)}, the total yearly cot is ${round(yearly_expense,2)} ')"
   ]
  },
  {
   "cell_type": "code",
   "execution_count": 13,
   "metadata": {},
   "outputs": [
    {
     "name": "stdout",
     "output_type": "stream",
     "text": [
      "the monthly cost is $210.0, the total yearly expense is $2520.0 \n"
     ]
    }
   ],
   "source": [
    "#aproach 2 :\n",
    "\n",
    "car_expense_input = input(\"enter the cost of loan, insurane, gas, oil tires, and maintenance, seperated by commas\")\n",
    "expense_list = car_expense_input.split(\",\")\n",
    "\n",
    "def expense_calculator(expense : list):\n",
    "    monthly = 0\n",
    "    for i in expense:\n",
    "        monthly += float(i)\n",
    "    return monthly, monthly * 12\n",
    "\n",
    "monthly_expense, yearly_expense = expense_calculator(expense_list)\n",
    "print(f'the monthly cost is ${monthly_expense}, the total yearly expense is ${yearly_expense} ')\n"
   ]
  },
  {
   "cell_type": "markdown",
   "metadata": {},
   "source": [
    "<h3> Question 5 </h3>\n",
    "<pre>\n",
    "A county collects property taxes on the assessment value of property, which is 60 percent of \n",
    "the property’s actual value. For example, if an acre of land is valued at $10,000, its assess\u0002ment value is $6,000. \n",
    "The property tax is then 72¢ for each $100 of the assessment value. \n",
    "The tax for the acre assessed at $6,000 will be $43.20. Write a program that asks for the \n",
    "actual value of a piece of property and displays the assessment value and property tax </pre>"
   ]
  },
  {
   "cell_type": "code",
   "execution_count": 10,
   "metadata": {},
   "outputs": [
    {
     "name": "stdout",
     "output_type": "stream",
     "text": [
      "the assesment tax will be 6000.0$ and the property tax will be 43.2$ \n"
     ]
    }
   ],
   "source": [
    "property_price = float(input(\"enter the price of a property: \"))\n",
    "PROPERTY_TAX = 0.72\n",
    "\n",
    "def assesment_tax_calculator(price: float):\n",
    "    assesment_value = property_price * 0.6\n",
    "    propery_tax_due = (assesment_value // 100) * 0.72\n",
    "\n",
    "    return assesment_value, propery_tax_due\n",
    "\n",
    "assesment_price, propery_due = assesment_tax_calculator(property_price)\n",
    "\n",
    "print(f'the assesment tax will be {round(assesment_price,2)}$ and the property tax will be {round(propery_due,2)}$ ')"
   ]
  },
  {
   "cell_type": "markdown",
   "metadata": {},
   "source": [
    "<h3> question 6</h3>\n",
    "<pre>A nutritionist who works for a fitness club helps members by evaluating their diets. As part \n",
    "of her evaluation, she asks members for the number of fat grams and carbohydrate grams \n",
    "that they consumed in a day. Then, she calculates the number of calories that result from \n",
    "the fat, using the following formula:\n",
    "calories from fat 5 fat grams 3 9\n",
    "VideoNote\n",
    "The Kilometer \n",
    "Converter \n",
    "Problem\n",
    "Programming Exercises 303\n",
    "Next, she calculates the number of calories that result from the carbohydrates, using the \n",
    "following formula:\n",
    "calories from carbs 5 carb grams 3 4\n",
    "The nutritionist asks you to write a program that will make these calculations</pre>"
   ]
  },
  {
   "cell_type": "code",
   "execution_count": null,
   "metadata": {},
   "outputs": [],
   "source": []
  },
  {
   "cell_type": "markdown",
   "metadata": {},
   "source": [
    "<h3> question 7 </h3>\n",
    "There are three seating categories at a stadium. Class A seats cost $20, Class B seats cost \n",
    "$15, and Class C seats cost $10. Write a program that asks how many tickets for each class \n",
    "of seats were sold, then displays the amount of income generated from ticket sales."
   ]
  },
  {
   "cell_type": "code",
   "execution_count": null,
   "metadata": {},
   "outputs": [],
   "source": []
  },
  {
   "cell_type": "markdown",
   "metadata": {},
   "source": [
    "<h3>question 8</h3>\n",
    "<pre>A painting company has determined that for every 112 square feet of wall space, one gallon \n",
    "of paint and eight hours of labor will be required. The company charges $35.00 per hour \n",
    "for labor. Write a program that asks the user to enter the square feet of wall space to be \n",
    "painted and the price of the paint per gallon. The program should display the following data:\n",
    "• The number of gallons of paint required\n",
    "• The hours of labor required\n",
    "• The cost of the paint\n",
    "• The labor charges\n",
    "• The total cost of the paint job</pre>"
   ]
  },
  {
   "cell_type": "code",
   "execution_count": null,
   "metadata": {},
   "outputs": [],
   "source": []
  },
  {
   "cell_type": "markdown",
   "metadata": {},
   "source": [
    "<h3>question 9</h3>\n",
    "<pre>A retail company must file a monthly sales tax report listing the total sales for the month, \n",
    "and the amount of state and county sales tax collected. The state sales tax rate is 5 percent \n",
    "and the county sales tax rate is 2.5 percent. Write a program that asks the user to enter \n",
    "the total sales for the month. From this figure, the application should calculate and display \n",
    "the following:\n",
    "• The amount of county sales tax\n",
    "• The amount of state sales tax\n",
    "• The total sales tax (county plus state)</pre>"
   ]
  },
  {
   "cell_type": "code",
   "execution_count": null,
   "metadata": {},
   "outputs": [],
   "source": []
  },
  {
   "cell_type": "markdown",
   "metadata": {},
   "source": [
    "<h3>question 10 </h3>\n",
    "\n",
    "<pre>\n",
    "A retail company must file a monthly sales tax report listing the total sales for the month, \n",
    "and the amount of state and county sales tax collected. The state sales tax rate is 5 percent \n",
    "and the county sales tax rate is 2.5 percent. Write a program that asks the user to enter \n",
    "the total sales for the month. From this figure, the application should calculate and display \n",
    "the following:\n",
    "• The amount of county sales tax\n",
    "• The amount of state sales tax\n",
    "• The total sales tax (county plus state)</pre>"
   ]
  },
  {
   "cell_type": "code",
   "execution_count": null,
   "metadata": {},
   "outputs": [],
   "source": []
  }
 ],
 "metadata": {
  "kernelspec": {
   "display_name": "Python 3",
   "language": "python",
   "name": "python3"
  },
  "language_info": {
   "codemirror_mode": {
    "name": "ipython",
    "version": 3
   },
   "file_extension": ".py",
   "mimetype": "text/x-python",
   "name": "python",
   "nbconvert_exporter": "python",
   "pygments_lexer": "ipython3",
   "version": "3.9.7"
  }
 },
 "nbformat": 4,
 "nbformat_minor": 2
}
