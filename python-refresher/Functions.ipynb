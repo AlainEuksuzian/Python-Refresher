{
 "cells": [
  {
   "cell_type": "markdown",
   "metadata": {},
   "source": [
    "<h3> Question 1</h3>\n",
    "Write a program that asks the user to enter a distance in kilometers, then converts that \n",
    "distance to miles. The conversion formula is as follows:\n",
    "Miles = Kilometers * 0.6214"
   ]
  },
  {
   "cell_type": "code",
   "execution_count": 4,
   "metadata": {},
   "outputs": [
    {
     "name": "stdout",
     "output_type": "stream",
     "text": [
      "5.0km, converted to miles is: 3.11\n"
     ]
    }
   ],
   "source": [
    "CONVERTOR = 0.6214\n",
    "km_user_input =  float(input(\"enter the distance in KM: \"))\n",
    "\n",
    "def km_mile_convertor(km_input: float):\n",
    "    return CONVERTOR * km_input\n",
    "\n",
    "\n",
    "print(f'{km_user_input}km, converted to miles is: {round(km_mile_convertor(km_user_input),2)}')"
   ]
  },
  {
   "cell_type": "markdown",
   "metadata": {},
   "source": [
    "<h3> Question 2</h3>\n",
    "<pre>\n",
    "Python allows you to repeat a string by multiplying it by an integer, e.g. 'Hi' * 3 will give \n",
    "'HiHiHi'. Pretend that this feature does not exist, and instead write a function named \n",
    "repeat that accepts a string and an integer as arguments. The function should return a \n",
    "string of the original string repeated the specified number of times, e.g. repeat('Hi', 3) \n",
    "should return 'HiHiHi'.</pre>"
   ]
  },
  {
   "cell_type": "code",
   "execution_count": 6,
   "metadata": {},
   "outputs": [
    {
     "name": "stdout",
     "output_type": "stream",
     "text": [
      "hihihi"
     ]
    }
   ],
   "source": [
    "word_input = input(\"enter the string to repeat: \")\n",
    "iteration_number = int(input(\"enter the number of iteration desired: \"))\n",
    "\n",
    "def repeat(word : str, times : int):\n",
    "    for i in range(times):\n",
    "        print(word, end=\"\")\n",
    "\n",
    "repeat(word_input, iteration_number)"
   ]
  },
  {
   "cell_type": "markdown",
   "metadata": {},
   "source": [
    "<h3> Question 3</h3>\n",
    "<pre>Many financial experts advise that property owners should insure their homes or buildings \n",
    "for at least 80 percent of the amount it would cost to replace the structure. Write a program \n",
    "that asks the user to enter the replacement cost of a building, then displays the minimum \n",
    "amount of insurance he or she should buy for the property.</pre> "
   ]
  },
  {
   "cell_type": "code",
   "execution_count": 7,
   "metadata": {},
   "outputs": [
    {
     "name": "stdout",
     "output_type": "stream",
     "text": [
      "you should insure at least 80000.0\n"
     ]
    }
   ],
   "source": [
    "home_cost = float(input(\"enter the price of the home: \"))\n",
    "\n",
    "def insurance_calculator(cost : float):\n",
    "    return cost * 0.8\n",
    "\n",
    "print(f'you should insure at least {round(insurance_calculator(home_cost)),2}')"
   ]
  },
  {
   "cell_type": "markdown",
   "metadata": {},
   "source": [
    "<h3> Question 4</h3>\n",
    "Write a program that asks the user to enter the monthly costs for the following expenses \n",
    "incurred from operating his or her automobile: loan payment, insurance, gas, oil, tires, and \n",
    "maintenance. The program should then display the total monthly cost of these expenses, \n",
    "and the total annual cost of these expenses."
   ]
  },
  {
   "cell_type": "code",
   "execution_count": 10,
   "metadata": {},
   "outputs": [
    {
     "name": "stdout",
     "output_type": "stream",
     "text": [
      "the total monthly cost is $210.0, the total yearly cot is $2520.0 \n"
     ]
    }
   ],
   "source": [
    "#approach 1\n",
    "loan_amount_monthly = float(input(\"enter the loan monthly amount: \"))\n",
    "insurance_amount_monthly = float(input(\"enter the monthly insurance cost: \"))\n",
    "gas_amount_monthly = float(input(\"enter the monthly gas price: \"))\n",
    "oil_amount_monthly =  float(input(\"enter the monthly oil expense: \"))\n",
    "tires_amount_monthly = float(input(\"enter the monthly tire cost: \"))\n",
    "maintenance_amount_monthly = float (input(\"enter he monthly maintenance cost:  \"))\n",
    "\n",
    "def monthy_yearly_expense_calc(loan, insurance, gas, oil, tires, maintenance):\n",
    "    monthly = loan+ insurance+ gas+ oil+ tires+ maintenance\n",
    "    yearly = (loan+ insurance+ gas+ oil+ tires+ maintenance) * 12\n",
    "    return monthly, yearly\n",
    "\n",
    "monthly_expense, yearly_expense = monthy_yearly_expense_calc(loan_amount_monthly, insurance_amount_monthly, gas_amount_monthly, \n",
    "                                                             oil_amount_monthly,tires_amount_monthly,maintenance_amount_monthly)\n",
    "\n",
    "print(f'the total monthly cost is ${round(monthly_expense,2)}, the total yearly cot is ${round(yearly_expense,2)} ')"
   ]
  },
  {
   "cell_type": "code",
   "execution_count": 13,
   "metadata": {},
   "outputs": [
    {
     "name": "stdout",
     "output_type": "stream",
     "text": [
      "the monthly cost is $210.0, the total yearly expense is $2520.0 \n"
     ]
    }
   ],
   "source": [
    "#aproach 2 :\n",
    "\n",
    "car_expense_input = input(\"enter the cost of loan, insurane, gas, oil tires, and maintenance, seperated by commas\")\n",
    "expense_list = car_expense_input.split(\",\")\n",
    "\n",
    "def expense_calculator(expense : list):\n",
    "    monthly = 0\n",
    "    for i in expense:\n",
    "        monthly += float(i)\n",
    "    return monthly, monthly * 12\n",
    "\n",
    "monthly_expense, yearly_expense = expense_calculator(expense_list)\n",
    "print(f'the monthly cost is ${monthly_expense}, the total yearly expense is ${yearly_expense} ')\n"
   ]
  },
  {
   "cell_type": "markdown",
   "metadata": {},
   "source": [
    "<h3> Question 5 </h3>\n",
    "<pre>\n",
    "A county collects property taxes on the assessment value of property, which is 60 percent of \n",
    "the property’s actual value. For example, if an acre of land is valued at $10,000, its assess\u0002ment value is $6,000. \n",
    "The property tax is then 72¢ for each $100 of the assessment value. \n",
    "The tax for the acre assessed at $6,000 will be $43.20. Write a program that asks for the \n",
    "actual value of a piece of property and displays the assessment value and property tax </pre>"
   ]
  },
  {
   "cell_type": "code",
   "execution_count": 10,
   "metadata": {},
   "outputs": [
    {
     "name": "stdout",
     "output_type": "stream",
     "text": [
      "the assesment tax will be 6000.0$ and the property tax will be 43.2$ \n"
     ]
    }
   ],
   "source": [
    "property_price = float(input(\"enter the price of a property: \"))\n",
    "PROPERTY_TAX = 0.72\n",
    "\n",
    "def assesment_tax_calculator(price: float):\n",
    "    assesment_value = property_price * 0.6\n",
    "    propery_tax_due = (assesment_value // 100) * 0.72\n",
    "\n",
    "    return assesment_value, propery_tax_due\n",
    "\n",
    "assesment_price, propery_due = assesment_tax_calculator(property_price)\n",
    "\n",
    "print(f'the assesment tax will be {round(assesment_price,2)}$ and the property tax will be {round(propery_due,2)}$ ')"
   ]
  },
  {
   "cell_type": "markdown",
   "metadata": {},
   "source": [
    "<h3> question 6</h3>\n",
    "<pre>A nutritionist who works for a fitness club helps members by evaluating their diets. As part \n",
    "of her evaluation, she asks members for the number of fat grams and carbohydrate grams \n",
    "that they consumed in a day. Then, she calculates the number of calories that result from \n",
    "the fat, using the following formula:\n",
    "calories from fat = fat grams * 9\n",
    "\n",
    "Next, she calculates the number of calories that result from the carbohydrates, using the \n",
    "following formula:\n",
    "calories from carbs = carb grams * 4\n",
    "The nutritionist asks you to write a program that will make these calculations</pre>"
   ]
  },
  {
   "cell_type": "code",
   "execution_count": 15,
   "metadata": {},
   "outputs": [
    {
     "name": "stdout",
     "output_type": "stream",
     "text": [
      "total calories from fat is 36.0 and total calories from carb is 20.0\n"
     ]
    }
   ],
   "source": [
    "fat_input = float(input(\"enter the number of fat: \"))\n",
    "carb_input = float(input(\"enter the number of carb: \"))\n",
    "\n",
    "def nutrition_calculator(fat: float, carb: float):\n",
    "    calories_fat = fat_input * 9\n",
    "    calories_carb = carb_input * 4\n",
    "    return calories_fat, calories_carb\n",
    "\n",
    "total_fat, total_carb = nutrition_calculator(fat_input, carb_input)\n",
    "\n",
    "print(f'total calories from fat is {total_fat} and total calories from carb is {total_carb}')"
   ]
  },
  {
   "cell_type": "markdown",
   "metadata": {},
   "source": [
    "<h3> question 7 </h3>\n",
    "There are three seating categories at a stadium. Class A seats cost $20, Class B seats cost \n",
    "$15, and Class C seats cost $10. Write a program that asks how many tickets for each class \n",
    "of seats were sold, then displays the amount of income generated from ticket sales."
   ]
  },
  {
   "cell_type": "code",
   "execution_count": 12,
   "metadata": {},
   "outputs": [
    {
     "name": "stdout",
     "output_type": "stream",
     "text": [
      "the total cost for your ticket will be 225$\n"
     ]
    }
   ],
   "source": [
    "CLASS_A_cost = 20\n",
    "CLASS_B_cost = 15\n",
    "CLASS_C_cost = 10\n",
    "\n",
    "def ticket_calculator():\n",
    "    classA = int(input(\"enter the tickets for class a: \"))\n",
    "    classB = int(input(\"enter the tickets for class b: \"))\n",
    "    classC = int(input(\"enter the tickets for class c: \"))\n",
    "    return (classA*CLASS_A_cost + classB* CLASS_B_cost + CLASS_C_cost* classC)\n",
    "\n",
    "print(f'the total cost for your ticket will be {ticket_calculator()}$')"
   ]
  },
  {
   "cell_type": "markdown",
   "metadata": {},
   "source": [
    "<h3>question 10 </h3>\n",
    "\n",
    "<pre>\n",
    "A retail company must file a monthly sales tax report listing the total sales for the month, \n",
    "and the amount of state and county sales tax collected. The state sales tax rate is 5 percent \n",
    "and the county sales tax rate is 2.5 percent. Write a program that asks the user to enter \n",
    "the total sales for the month. From this figure, the application should calculate and display \n",
    "the following:\n",
    "• The amount of county sales tax\n",
    "• The amount of state sales tax\n",
    "• The total sales tax (county plus state)</pre>"
   ]
  },
  {
   "cell_type": "code",
   "execution_count": 4,
   "metadata": {},
   "outputs": [
    {
     "name": "stdout",
     "output_type": "stream",
     "text": [
      "the total state tax is: $0.5\n",
      "the total county tax is: $0.25\n",
      "the total amount to pay is: $10.75\n"
     ]
    }
   ],
   "source": [
    "state_tax = 0.05\n",
    "county_tax = 0.025\n",
    "total_sales = float(input(\"enter the total number of sales: \"))\n",
    "\n",
    "def taxCalculator(sales: float):\n",
    "    total_state_paid = sales * state_tax\n",
    "    total_county_paid = sales * county_tax\n",
    "    total_balance = sales * (1 + state_tax + county_tax )\n",
    "    return total_state_paid, total_county_paid, total_balance\n",
    "\n",
    "\n",
    "paid_state, paid_couty, total_paid = taxCalculator(total_sales)\n",
    "print(f'the total state tax is: ${paid_state}\\nthe total county tax is: ${paid_couty}\\nthe total amount to pay is: ${total_paid}')"
   ]
  },
  {
   "cell_type": "markdown",
   "metadata": {},
   "source": [
    "<h3> question 11 </h3>\n",
    "<pre>Write a program that generates printable addition tests. The tests should consist of 5 ques\u0002tions which present a\n",
    " simple addition question in the following format, where the question \n",
    "number goes from 1 to 5, and num1 and num2 are randomly generated numbers between \n",
    "1 and 10:\n",
    " Question 1\n",
    " num1 + num2 = _____\n",
    "</pre>\n"
   ]
  },
  {
   "cell_type": "code",
   "execution_count": 23,
   "metadata": {},
   "outputs": [
    {
     "name": "stdout",
     "output_type": "stream",
     "text": [
      "1 + 3  = __\n",
      "2 + 3  = __\n",
      "5 + 6  = __\n",
      "6 + 10  = __\n",
      "9 + 6  = __\n",
      "you got 3 correct answers, and 2 incorrect answers for an average of 60.0%\n"
     ]
    }
   ],
   "source": [
    "import random as rand\n",
    "\n",
    "def addition_question():\n",
    "    num1 = rand.randint(1,10)\n",
    "    num2 = rand.randint(1,10)\n",
    "    print(num1,\"+\",num2, \" = __\")\n",
    "    answer = int(input(f'what is {num1} + {num2}: '))\n",
    "    if (answer == (num1 + num2)):\n",
    "        return True\n",
    "    return False\n",
    "\n",
    "correct = 0\n",
    "incorrect = 0\n",
    "\n",
    "for i in range(5):\n",
    "    quiz = addition_question()\n",
    "    if (quiz):\n",
    "        correct += 1\n",
    "    else:\n",
    "        incorrect+= 1\n",
    "\n",
    "average = (correct/5)* 100\n",
    "\n",
    "print(f'you got {correct} correct answers, and {incorrect} incorrect answers for an average of {round(average,2)}%')"
   ]
  },
  {
   "cell_type": "markdown",
   "metadata": {},
   "source": [
    "<h3>Question 12 </h3>\n",
    "<pre>Write a function named max that accepts two integer values as arguments and returns the \n",
    "value that is the greater of the two. For example, if 7 and 12 are passed as arguments to \n",
    "the function, the function should return 12. Use the function in a program that prompts the \n",
    "user to enter two integer values. The program should display the value that is the greater \n",
    "of the two</pre>"
   ]
  },
  {
   "cell_type": "code",
   "execution_count": 28,
   "metadata": {},
   "outputs": [
    {
     "name": "stdout",
     "output_type": "stream",
     "text": [
      "2\n",
      "2\n",
      "3\n"
     ]
    }
   ],
   "source": [
    "def max(num1: int, num2: int):\n",
    "    if (num1 > num2):\n",
    "        return num1\n",
    "    elif (num2 > num1):\n",
    "        return num2\n",
    "    else:\n",
    "        return \"equal\"\n",
    "    \n",
    "for i in range(3):\n",
    "    num_one = int(input(\"enter the first number: \"))\n",
    "    num_two = int(input(\"enter the second number: \"))\n",
    "    print(max(num_one, num_two))"
   ]
  },
  {
   "cell_type": "markdown",
   "metadata": {},
   "source": [
    "<h3> question 13</h3>\n",
    "<pre>When an object is falling because of gravity, the following formula can be used to deter\u0002mine the distance the object\n",
    "falls in a specific time period:\n",
    "d = ½ gt^2\n",
    "The variables in the formula are as follows: d is the distance in meters, g is 9.8, and t is the \n",
    "amount of time, in seconds, that the object has been falling.\n",
    "Write a function named falling_distance that accepts an object’s falling time (in seconds) \n",
    "as an argument. The function should return the distance, in meters, that the object has \n",
    "fallen during that time interval. Write a program that calls the function in a loop that passes \n",
    "the values 1 through 10 as arguments and displays the return value</pre>"
   ]
  },
  {
   "cell_type": "code",
   "execution_count": 35,
   "metadata": {},
   "outputs": [
    {
     "name": "stdout",
     "output_type": "stream",
     "text": [
      "the distance with a t value t_value of 8.0 is 313.6\n"
     ]
    }
   ],
   "source": [
    "G_VALUE = 9.8\n",
    "t_value = float(input(\"enter the value of T: \"))\n",
    "\n",
    "def falling_distance(t_input: float):\n",
    "    distance = 0.5 * G_VALUE * t_value ** 2\n",
    "    return distance\n",
    "\n",
    "distance = falling_distance(t_value)\n",
    "\n",
    "print(f'the distance with a t value of {t_value} is {round(distance,2)}')"
   ]
  },
  {
   "cell_type": "markdown",
   "metadata": {},
   "source": [
    "<h3>question 14</h3>\n",
    "<pre>In physics, an object that is in motion is said to have kinetic energy. The following formula \n",
    "can be used to determine a moving object’s kinetic energy:\n",
    "KE = ½ mv2\n",
    "The variables in the formula are as follows: KE is the kinetic energy, m is the object’s mass \n",
    "in kilograms, and v is the object’s velocity in meters per second.\n",
    "Write a function named kinetic_energy that accepts an object’s mass (in kilograms) \n",
    "and velocity (in meters per second) as arguments. The function should return the amount \n",
    "of kinetic energy that the object has. Write a program that asks the user to enter values \n",
    "for mass and velocity, then calls the kinetic_energy function to get the object’s kinetic \n",
    "energy.</pre>\n"
   ]
  },
  {
   "cell_type": "code",
   "execution_count": 8,
   "metadata": {},
   "outputs": [
    {
     "name": "stdout",
     "output_type": "stream",
     "text": [
      "with a mass input of 5.2, and a velocity input of 9.1, the kinetic energy produced is 1119.59\n"
     ]
    }
   ],
   "source": [
    "mass_input = float(input(\"enter the value for mass: \"))\n",
    "velocity_input = float(input(\"enter the value velocity :\"))\n",
    "\n",
    "def kinetic_energy(mass : float, velocity: float):\n",
    "    return 0.5 * pow(mass_input*velocity_input,2)\n",
    "\n",
    "kinetic = kinetic_energy(mass_input,velocity_input)\n",
    "\n",
    "print(\"with a mass input of {mass}, and a velocity input of {velo}, the kinetic energy produced is {kinec}\"\n",
    "        .format(mass = round(mass_input,2), velo = round(velocity_input,2), kinec = round(kinetic,2)))"
   ]
  },
  {
   "cell_type": "markdown",
   "metadata": {},
   "source": [
    "<h3>question 15</h3>\n",
    "<pre>Write a program that asks the user to enter five test scores. The program should display a \n",
    "letter grade for each score and the average test score. Write the following functions in the \n",
    "program:\n",
    "•\t calc_average. \n",
    "•\t determine_grade. a function should accept a test score as an argument and return \n",
    "a letter grade for the score based on the following grading scale:\n",
    "Score Letter Grade\n",
    "90–100 A\n",
    "80–89 B\n",
    "70–79 C\n",
    "60–69 D\n",
    "Below 60 F\n",
    "</pre>"
   ]
  },
  {
   "cell_type": "code",
   "execution_count": 40,
   "metadata": {},
   "outputs": [
    {
     "name": "stdout",
     "output_type": "stream",
     "text": [
      "invalid grade input for grade 125.0, try again: \n",
      "test1  :  100.0 %\n",
      "test2  :  99.0 %\n",
      "test3  :  80.0 %\n",
      "test4  :  75.0 %\n",
      "test5  :  100.0 %\n",
      "---------------------\n",
      "your final grade based on the test scores above is: 90.8%\n"
     ]
    }
   ],
   "source": [
    "\n",
    "tests_stored = {}\n",
    "test_types = ['test1','test2','test3','test4','test5']\n",
    "average_grade = 0\n",
    "\n",
    "def test_calculator():\n",
    "    global average_grade\n",
    "    for i in range(5):\n",
    "        tests = float(input(f\"enter the score for test {i + 1}, graded on 100: \"))\n",
    "        \n",
    "        while (tests > 100 or tests < 0):\n",
    "            print(f\"invalid grade input for grade {tests}, try again: \")\n",
    "            tests = float(input(f\"enter the score for test {i + 1}, graded on 100: \"))\n",
    "\n",
    "        tests_stored[test_types[i]] = tests\n",
    "        average_grade += tests\n",
    "    average_grade /= 5\n",
    "    return average_grade, tests_stored\n",
    "\n",
    "\n",
    "def letter_grade_calculator(grade: float):\n",
    "\n",
    "    letter_grade = ''\n",
    "    if (grade >= 90 ):\n",
    "        letter_grade = 'A'\n",
    "    elif (grade >= 80):\n",
    "        letter_grade = 'B'\n",
    "    elif (grade >= 70):\n",
    "        letter_grade = 'C'\n",
    "    elif (grade >= 60):\n",
    "        letter_grade = 'D'\n",
    "    else:\n",
    "        letter_grade = 'F'\n",
    "    return letter_grade\n",
    "\n",
    "\n",
    "final_grade, grade_description = test_calculator()\n",
    "letter = letter_grade_calculator(final_grade)\n",
    "\n",
    "for test, grade in tests_stored.items():\n",
    "    print(test, \" : \", grade, \"%\")\n",
    "print('---------------------')\n",
    "print(f'your final grade based on the test scores above is: {round(final_grade,2)}%')\n",
    "\n"
   ]
  },
  {
   "cell_type": "markdown",
   "metadata": {},
   "source": [
    "<h3>question 16</h3>\n",
    "<pre>16. Odd/Even Counter\n",
    "In this chapter, you saw an example of how to write an algorithm that determines \n",
    "whether a number is even or odd. Write a program that generates 100 random numbers \n",
    "and keeps a count of how many of those random numbers are even, and how many of \n",
    "them are odd</pre>"
   ]
  },
  {
   "cell_type": "code",
   "execution_count": 33,
   "metadata": {},
   "outputs": [
    {
     "name": "stdout",
     "output_type": "stream",
     "text": [
      "out of 100 iteration, 45 were even, 55 were odd\n"
     ]
    }
   ],
   "source": [
    "def even_odd_counter():\n",
    "    even = 0; odd = 0\n",
    "    for i in range(100):\n",
    "        number = rand.randint(1,100)\n",
    "        if (number % 2 == 0):\n",
    "            even +=1\n",
    "        else:\n",
    "            odd += 1\n",
    "    return even, odd\n",
    "\n",
    "even_count, odd_count = even_odd_counter()\n",
    "\n",
    "print(f'out of 100 iteration, {even_count} were even, {odd_count} were odd')"
   ]
  },
  {
   "cell_type": "markdown",
   "metadata": {},
   "source": [
    "<h3>question 17</h3>\n",
    "<pre>A prime number is a number that is only evenly divisible by itself and 1. For example, the \n",
    "number 5 is prime because it can only be evenly divided by 1 and 5. The number 6, how\u0002ever,\n",
    " is not prime because it can be divided evenly by 1, 2, 3, and 6.\n",
    "Write a Boolean function named is_prime which takes an integer as an argument and \n",
    "returns true if the argument is a prime number, or false otherwise. Use the function in \n",
    "a program that prompts the user to enter a number then displays a message indicating \n",
    "whether the number is prime.</pre>"
   ]
  },
  {
   "cell_type": "code",
   "execution_count": 66,
   "metadata": {},
   "outputs": [
    {
     "name": "stdout",
     "output_type": "stream",
     "text": [
      "2\n",
      "3\n",
      "prime\n"
     ]
    }
   ],
   "source": []
  },
  {
   "cell_type": "markdown",
   "metadata": {},
   "source": [
    "<h3>question 18</h3>\n",
    "<pre>This exercise assumes that you have already written the is_prime function in Programming \n",
    "Exercise 17. Write another program that displays all of the prime numbers from 1 to 100. \n",
    "The program should have a loop that calls the is_prime function.</pre>"
   ]
  },
  {
   "cell_type": "code",
   "execution_count": null,
   "metadata": {},
   "outputs": [],
   "source": []
  },
  {
   "cell_type": "markdown",
   "metadata": {},
   "source": [
    "<h3>question 19</h3>\n",
    "<pre>Suppose you have taken out a loan for a certain amount of money with a fixed monthly inter\u0002est rate and monthly payments, and you want to determine the monthly payment amount \n",
    "necessary to pay off the loan within a specific number of months. The formula is as follows:\n",
    "P = R * A / 1- (1+r)^-m\n",
    "\n",
    "The terms in the formula are:\n",
    "•\t P is the payment amount per month.\n",
    "•\t R is the monthly interest rate, as a decimal (e.g. 2.5% 5 0.025).\n",
    "•\t A is the amount of the loan.\n",
    "•\t M is the number of months.\n",
    "Write a program that prompts the user to enter the loan amount, monthly interest rate as \n",
    "a percentage and desired number of months. The program should pass these values to a \n",
    "function that returns the monthly payment amount necessary. The program should display \n",
    "this amount</pre>\n",
    "\n",
    "\n"
   ]
  },
  {
   "cell_type": "code",
   "execution_count": null,
   "metadata": {},
   "outputs": [],
   "source": []
  },
  {
   "cell_type": "markdown",
   "metadata": {},
   "source": [
    "<h3>Question 20 </h3>\n",
    "<pre>Write a program that generates a random number in the range of 1 through 100, and asks \n",
    "the user to guess what the number is. If the user’s guess is higher than the random number, \n",
    "the program should display “Too high, try again.” If the user’s guess is lower than the \n",
    "random number, the program should display “Too low, try again.” If the user guesses the \n",
    "number, the application should congratulate the user and generate a new random number \n",
    "so the game can start over.\n",
    "Optional Enhancement: Enhance the game so it keeps count of the number of guesses that \n",
    "the user makes. When the user correctly guesses the random number, the program should \n",
    "display the number of guesses.</pre>"
   ]
  },
  {
   "cell_type": "code",
   "execution_count": null,
   "metadata": {},
   "outputs": [],
   "source": []
  },
  {
   "cell_type": "markdown",
   "metadata": {},
   "source": [
    "<h3>question 21</h3>\n",
    "<pre>Write a program that lets the user play the game of Rock, Paper, Scissors against the com\u0002puter. The program should work as follows:\n",
    "1. When the program begins, a random number in the range of 1 through 3 is generated. \n",
    "If the number is 1, then the computer has chosen rock. If the number is 2, then the \n",
    "computer has chosen paper. If the number is 3, then the computer has chosen scissors. \n",
    "(Don’t display the computer’s choice yet.)\n",
    "2. The user enters his or her choice of “rock,” “paper,” or “scissors” at the keyboard.\n",
    "3. The computer’s choice is displayed.\n",
    "4. A winner is selected according to the following rules:\n",
    "•\t If one player chooses rock and the other player chooses scissors, then rock wins.\n",
    "(Rock smashes scissors.)\n",
    "•\t If one player chooses scissors and the other player chooses paper, then scissors wins.\n",
    "(Scissors cuts paper.)\n",
    "•\t If one player chooses paper and the other player chooses rock, then paper wins.\n",
    "(Paper wraps rock.)\n",
    "•\t If both players make the same choice, the game must be played again to determine\n",
    "the winner.</pre>"
   ]
  },
  {
   "cell_type": "markdown",
   "metadata": {},
   "source": [
    "play to win: (rock > scissor), (paper > rock), (scissor > paper),   \n",
    "bot to win = (rock > scissor), (paper > rock), (scissor > paper),   "
   ]
  },
  {
   "cell_type": "code",
   "execution_count": 6,
   "metadata": {},
   "outputs": [
    {
     "name": "stdout",
     "output_type": "stream",
     "text": [
      "paper    rock\n",
      "player win!\n"
     ]
    }
   ],
   "source": [
    "import random as rand\n",
    "\n",
    "\n",
    "def main():\n",
    "    player_hand = player_choice()\n",
    "    bot_hand = npc_option()\n",
    "    output_winner = \"\"\n",
    "   \n",
    "\n",
    "    if ((player_hand == \"rock\" and bot_hand == \"scissor\") or (player_hand == \"paper\" and bot_hand == \"rock\")  or (player_hand == \"scissor\" and bot_hand == \"paper\")):\n",
    "        print(player_hand, \"  \", bot_hand)\n",
    "        output_winner = \"player win!\"\n",
    "    elif ((bot_hand == \"rock\" and player_hand == \"scissor\") or (bot_hand == \"paper\" and player_hand == \"rock\") or (bot_hand == \"scissor\" and player_hand == \"paper\")):\n",
    "        print(player_hand, \" \", bot_hand)\n",
    "        output_winner = \"bot wins!\"\n",
    "    elif ((player_hand == \"rock\" and bot_hand == \"rock\") or (player_hand == \"paper\" and bot_hand == \"paper\") or (player_hand == \"scissor\" and bot_hand == \"scissor\")):\n",
    "        print(player_hand, \" \", bot_hand)\n",
    "        output_winner = \"tie!\"\n",
    "    else:\n",
    "        print(player_hand, \" \", bot_hand)\n",
    "        output_winner = \"invaliv entry\"\n",
    "\n",
    "    return output_winner\n",
    "\n",
    "\n",
    "\n",
    "options = [\"rock\", \"paper\", \"scissor\"]\n",
    "\n",
    "npc_num =  rand.randint(0,2)\n",
    "\n",
    "def player_choice():\n",
    "    option_player = input(\"enter your hand choice: \")\n",
    "    return option_player\n",
    "\n",
    "def npc_option():\n",
    "    options = [\"rock\", \"paper\", \"scissor\"]\n",
    "    npc_num =  rand.randint(0,2)\n",
    "    return options[npc_num]\n",
    "\n",
    "\n",
    "\n",
    "print(main())\n",
    "\n"
   ]
  }
 ],
 "metadata": {
  "kernelspec": {
   "display_name": "Python 3",
   "language": "python",
   "name": "python3"
  },
  "language_info": {
   "codemirror_mode": {
    "name": "ipython",
    "version": 3
   },
   "file_extension": ".py",
   "mimetype": "text/x-python",
   "name": "python",
   "nbconvert_exporter": "python",
   "pygments_lexer": "ipython3",
   "version": "3.9.7"
  }
 },
 "nbformat": 4,
 "nbformat_minor": 2
}
