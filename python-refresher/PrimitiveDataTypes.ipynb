{
 "cells": [
  {
   "cell_type": "markdown",
   "metadata": {},
   "source": [
    "<h3> Question 1 </h3>\n",
    "Personal Information\n",
    "Write a program that displays the following information:\n",
    "•Your name\n",
    "\n",
    "•Your address, with city, state, and ZIP\n",
    "\n",
    "•Your telephone number\n",
    "\n",
    "•Your college major"
   ]
  },
  {
   "cell_type": "code",
   "execution_count": 9,
   "metadata": {},
   "outputs": [
    {
     "name": "stdout",
     "output_type": "stream",
     "text": [
      "question 1 output:\n",
      "your name is alain euk your addy is 12345 blvd your phone is 5149999999 your major is btm\n"
     ]
    }
   ],
   "source": [
    "name = input(\"enter your name: \")\n",
    "address = input(\"enter your address: \")\n",
    "phone = int(input(\"enter your phone number: \"))\n",
    "major = input(\"enter your major: \")\n",
    "\n",
    "\n",
    "print(\"question 1 output:\\nyour name is {one} your addy is {two} your phone is {three} your major is {four}\".format(one=name, two = address, three = phone, four = major))"
   ]
  },
  {
   "cell_type": "markdown",
   "metadata": {},
   "source": [
    "<h3>Question 2 </h3>\n",
    "A company has determined that its annual profit is typically 23 percent of total sales. Write \n",
    "a program that asks the user to enter the projected amount of total sales, then displays the \n",
    "profit that will be made from that amount :"
   ]
  },
  {
   "cell_type": "code",
   "execution_count": 1,
   "metadata": {},
   "outputs": [
    {
     "name": "stdout",
     "output_type": "stream",
     "text": [
      "question 2 output:\n",
      "the companies profits are 230.0 with sales of 999.99\n"
     ]
    }
   ],
   "source": [
    "PROFIT_MARGIN = 0.23\n",
    "projected_sale = float(input(\"enter the amount of sales: \")) # 999.99$ input\n",
    "net_profit = PROFIT_MARGIN * projected_sale\n",
    "\n",
    "print(\"question 2 output:\")\n",
    "print(\"the companies profits are {o} with sales of {s}\".format(o = round(net_profit,2), s = projected_sale))"
   ]
  },
  {
   "cell_type": "markdown",
   "metadata": {},
   "source": [
    "<h3>Question 3 </h3>\n",
    "One pound is equivalent to 0.454 kilograms. Write a program that asks the user to enter \n",
    "the mass of an object in pounds and then calculates and displays the mass of the object in \n",
    "kilograms"
   ]
  },
  {
   "cell_type": "code",
   "execution_count": 3,
   "metadata": {},
   "outputs": [
    {
     "name": "stdout",
     "output_type": "stream",
     "text": [
      "question 3 answer:\n",
      "the 123.66 converted to KG is 56.14164\n"
     ]
    }
   ],
   "source": [
    "CONVERTER = 0.454\n",
    "pound_input = float(input(\"enter the mass in pounds: \"))\n",
    "kilo_convert = CONVERTER * pound_input\n",
    "\n",
    "print(\"question 3 answer:\")\n",
    "print(\"the {p} converted to KG is {k}\".format(p=pound_input, k = kilo_convert))\n"
   ]
  },
  {
   "cell_type": "markdown",
   "metadata": {},
   "source": [
    "<h3>Question 4</h3>\n",
    "A customer in a store is purchasing five items. Write a program that asks for the price of \n",
    "each item, then displays the subtotal of the sale, the amount of sales tax, and the total. \n",
    "Assume the sales tax is 7 percent:"
   ]
  },
  {
   "cell_type": "code",
   "execution_count": 11,
   "metadata": {},
   "outputs": [
    {
     "name": "stdout",
     "output_type": "stream",
     "text": [
      "the total cost of the purchase is 78.11, the tax rate is 5.11 for the following products: \n",
      "{'chips': 5.0, 'drink': 3.0, 'chair': 10.0, 'apple': 5.0, 'car': 50.0}\n"
     ]
    }
   ],
   "source": [
    "#Question 5\n",
    "products = {}\n",
    "pretax_total = 0\n",
    "TAX_RATE = 0.07\n",
    "net_total = 0\n",
    "NUMBER_OF_ITEMS = 5\n",
    "\n",
    "for i in range(NUMBER_OF_ITEMS):\n",
    "    key = str(input(\"enter the name of product {o}\".format(o = i + 1)))\n",
    "    value = float(input(\"enter the price of {v}\".format(v = key)))\n",
    "    products[key] = value\n",
    "    pretax_total += products[key]\n",
    "\n",
    "net_total = (1 + TAX_RATE) * pretax_total\n",
    "\n",
    "print(\"the total cost of the purchase is {p}, the tax rate is {t} for the following products: \".format(p = round(net_total,2), t = round(TAX_RATE * pretax_total,2)))\n",
    "print(products)"
   ]
  },
  {
   "cell_type": "markdown",
   "metadata": {},
   "source": [
    "<h3>#Question 5</h3>\n",
    "\n",
    "Assuming there are no accidents or delays, the distance that a car travels down the inter\u0002state can be calculated with the following formula:\n",
    "Distance = Speed * Time\n",
    "A car is traveling at 70 miles per hour. Write a program that displays the following:\n",
    "• The distance the car will travel in 6 hours\n",
    "• The distance the car will travel in 10 hours\n",
    "• The distance the car will travel in 15 hours\n"
   ]
  },
  {
   "cell_type": "code",
   "execution_count": 8,
   "metadata": {},
   "outputs": [
    {
     "name": "stdout",
     "output_type": "stream",
     "text": [
      "question 5 answer:\n",
      "the travel distance for 6 hours is 420 miles.\n",
      "the travel time for 10 hours is 700 miles.\n",
      "the travel time for fifteen hours is 1050 miles.\n"
     ]
    }
   ],
   "source": [
    "TRAVEL_TIME = [6,10,15]\n",
    "SPEED = 70\n",
    "\n",
    "travel_one = SPEED * TRAVEL_TIME[0]\n",
    "travel_two = SPEED * TRAVEL_TIME[1]\n",
    "travel_three = SPEED * TRAVEL_TIME[2]\n",
    "\n",
    "print(\"question 5 answer:\\nthe travel distance for 6 hours is {six} miles.\\nthe travel time for 10 hours is {ten} miles.\\nthe travel time for fifteen hours is {fif} miles.\".format(six = travel_one, ten = travel_two, fif = travel_three))"
   ]
  },
  {
   "cell_type": "markdown",
   "metadata": {},
   "source": [
    "<h3> #Question 6 </h3>\n",
    "Write a program that asks the user to enter the amount of a purchase and the desired \n",
    "number of payment instalments. The program should add 5 percent to the amount to get \n",
    "the total purchase amount, and then divide it by the desired number of instalments, then \n",
    "VideoNote\n",
    "The Sales \n",
    "Prediction Problem\n",
    "Programming Exercises 127\n",
    "display messages telling the user the total amount of the purchase and how much each \n",
    "instalment will cost"
   ]
  },
  {
   "cell_type": "code",
   "execution_count": 11,
   "metadata": {},
   "outputs": [
    {
     "name": "stdout",
     "output_type": "stream",
     "text": [
      "the individual payments including interest rate will be $17.50\n"
     ]
    }
   ],
   "source": [
    "product_gross_price = float(input(\"enter the price of the purchase:\"))\n",
    "INTEREST_RATE = 0.05\n",
    "INSTALMENTS = 6\n",
    "product_gross_price = (1 + INTEREST_RATE) * product_gross_price \n",
    "\n",
    "individual_payments = product_gross_price / INSTALMENTS\n",
    "\n",
    "print(\"the individual payments including interest rate will be ${:.2f}\".format(round(individual_payments,2)))\n"
   ]
  },
  {
   "cell_type": "markdown",
   "metadata": {},
   "source": [
    "<h3>#Question 7</h3>\n",
    "7. Miles-per-Gallon\n",
    "A car's miles-per-gallon (MPG) can be calculated with the following formula:\n",
    "MPG = Miles driven *4* Gallons of gas used\n",
    "Write a program that asks the user for the number of miles driven and the gallons of gas \n",
    "used. It should calculate the car's MPG and display the result."
   ]
  },
  {
   "cell_type": "code",
   "execution_count": 12,
   "metadata": {},
   "outputs": [
    {
     "name": "stdout",
     "output_type": "stream",
     "text": [
      "the mpg is 500.0\n"
     ]
    }
   ],
   "source": [
    "miles_driven = int(input(\"enter the number of miles driven: \"))\n",
    "gallon_gas = float(input(\"enter the number of gallon used\"))\n",
    "mpg = miles_driven * gallon_gas \n",
    "\n",
    "print(\"the mpg is {}\".format(round(mpg,2)))"
   ]
  },
  {
   "cell_type": "markdown",
   "metadata": {},
   "source": [
    "<h3>#Question 8</h3>\n",
    "Write a program that calculates the total amount of a meal purchased at a restaurant. The \n",
    "program should ask the user to enter the charge for the food, then calculate the amounts \n",
    "of a 18 percent tip and 7 percent sales tax. Display each of these amounts and the total."
   ]
  },
  {
   "cell_type": "code",
   "execution_count": 15,
   "metadata": {},
   "outputs": [
    {
     "name": "stdout",
     "output_type": "stream",
     "text": [
      "{'pizza': 10.0, 'hot dog': 25.0, 'fries': 5.0}\n"
     ]
    }
   ],
   "source": [
    "TAX_RATE = 0.07\n",
    "TIP = 0.18\n",
    "food_purchase = {}\n",
    "keep_adding = False\n",
    "total_cost = 0\n",
    "\n",
    "while(keep_adding == False):\n",
    "    food_name = input(\"enter the item: \")\n",
    "    food_price = float(input(\"enter the price: \"))\n",
    "    food_purchase[food_name] = food_price\n",
    "    total_cost += food_price\n",
    "    option = str(input(\"add more items? (Y/N)\"))\n",
    "    if (option.lower() == 'n'):\n",
    "        break\n",
    "      \n",
    "total_cost = (1 + TAX_RATE + TIP ) * total_cost\n",
    "\n",
    "print(\"the total cost of the purchase is {t}\".format(round(total_cost, 2)))"
   ]
  },
  {
   "cell_type": "markdown",
   "metadata": {},
   "source": [
    "<h3>Question 9</h3>\n",
    "\n",
    "Write a program that asks the user to enter the radius of a circle. The program should cal\u0002culate and display the area and circumference of the circle using πr\n",
    "for the area and 2πr\n",
    "for the circumference.\n",
    "Hint: You can either use 3.14159 as the value of pi (π), or add the statement \"import math\"\n",
    "to the start of the program and then use \"math.pi\" wherever you need the value of pi in \n",
    "the program."
   ]
  },
  {
   "cell_type": "code",
   "execution_count": 18,
   "metadata": {},
   "outputs": [
    {
     "name": "stdout",
     "output_type": "stream",
     "text": [
      "the area of the circle is 15.708\n",
      "the circumference of the circle is 31.416\n"
     ]
    }
   ],
   "source": [
    "import math \n",
    "radius = float(input(\"enter the radius of the circle: \"))\n",
    "area = math.pi * radius\n",
    "circumference = 2* (math.pi * radius)\n",
    "\n",
    "print(\"the area of the circle is {area}\\nthe circumference of the circle is {circ}\".format(area = round(area,3), circ = round(circumference,3)))"
   ]
  },
  {
   "cell_type": "markdown",
   "metadata": {},
   "source": [
    "<h3>Question 10 </h3>\n",
    "\n",
    "A cookie recipe calls for the following ingredients:\n",
    "• 1.5 cups of sugar\n",
    "• 1 cup of butter\n",
    "• 2.75 cups of flour\n",
    "The recipe produces 48 cookies with this amount of the ingredients.\n",
    " Write a program that \n",
    "asks the user how many cookies he or she wants to make, then displays the number of cups \n",
    "of each ingredient needed for the specified number of cookies.\n",
    "\n"
   ]
  },
  {
   "cell_type": "code",
   "execution_count": 23,
   "metadata": {},
   "outputs": [
    {
     "name": "stdout",
     "output_type": "stream",
     "text": [
      "you need 3.0 cups of sugar\n",
      "you need 2.0 cups of butter\n",
      "you need 5.5 cups of flour\n"
     ]
    }
   ],
   "source": [
    "COOKIE_MULTIPLIER = 48 \n",
    "individual_sugar = 1.5 / COOKIE_MULTIPLIER\n",
    "individual_butter = 1 / COOKIE_MULTIPLIER\n",
    "individual_flour = 2.75 / COOKIE_MULTIPLIER\n",
    "\n",
    "number_cookie_query = int(input(\"enter the number of cookie you wish to make for the recipe: \"))  #96 input\n",
    "\n",
    "user_sugar_reciple = individual_sugar * number_cookie_query\n",
    "user_butter_recipe = individual_butter * number_cookie_query\n",
    "user_flour_recipe = individual_flour * number_cookie_query\n",
    "\n",
    "print(\"you need {sugar} cups of sugar\\nyou need {butter} cups of butter\\nyou need {flour} cups of flour\"\n",
    "      .format(sugar =round(user_sugar_reciple,3), butter = round(user_butter_recipe,3) , flour = round(user_flour_recipe,3)))\n",
    "\n"
   ]
  },
  {
   "cell_type": "markdown",
   "metadata": {},
   "source": [
    "<h3>Question 11 </h3>\n",
    "\n",
    "Write a program that asks the user for the number of males and the number of females regis\u0002tered in a class. The program should display the percentage of males and females in the class.\n",
    "Hint: Suppose there are 8 males and 12 females in a class. There are 20 students in the \n",
    "class. The percentage of males can be calculated as 8 ÷ 20 = 0.4, or 40%. The percentage \n",
    "of females can be calculated as 12 ÷ 20 = 0.6, or 60%."
   ]
  },
  {
   "cell_type": "code",
   "execution_count": 29,
   "metadata": {},
   "outputs": [
    {
     "name": "stdout",
     "output_type": "stream",
     "text": [
      "the percentage of male is 60.0% and the percentage of females is 40.0%\n"
     ]
    }
   ],
   "source": [
    "male_input = int(input(\"enter the number of males: \"))\n",
    "female_input = int(input(\"enter the number of females: \"))\n",
    "\n",
    "total_class_size = male_input + female_input\n",
    "\n",
    "print(\"the percentage of male is {malePerc}% and the percentage of females is {femalePerc}%\".format(malePerc = round((male_input/total_class_size)*100,2),\n",
    "      femalePerc = round((female_input/total_class_size)*100,3)))\n",
    "\n"
   ]
  },
  {
   "cell_type": "markdown",
   "metadata": {},
   "source": [
    "<h3>Question 12</h3>\n",
    "\n",
    "Last month, Joe purchased some stock in Acme Software, Inc. Here are the details of the \n",
    "purchase:\n",
    "• The number of shares that Joe purchased was 2,000.\n",
    "• When Joe purchased the stock, he paid $40.00 per share.\n",
    "• Joe paid his stockbroker a commission that amounted to 3 percent of the amount he paid \n",
    "for the stock.\n",
    "Two weeks later, Joe sold the stock. Here are the details of the sale:\n",
    "• The number of shares that Joe sold was 2,000.\n",
    "• He sold the stock for $42.75 per share.\n",
    "• He paid his stockbroker another commission that amounted to 3 percent of the amount \n",
    "he received for the stock.\n",
    "Write a program that displays the following information:\n",
    "• The amount of money Joe paid for the stock.\n",
    "• The amount of commission Joe paid his broker when he bought the stock.\n",
    "• The amount for which Joe sold the stock.\n",
    "• The amount of commission Joe paid his broker when he sold the stock.\n",
    "• Display the amount of money that Joe had left when he sold the stock and paid his \n",
    "broker (both times). If this amount is positive, then Joe made a profit. If the amount is \n",
    "negative, then Joe lost money."
   ]
  },
  {
   "cell_type": "code",
   "execution_count": 33,
   "metadata": {},
   "outputs": [
    {
     "name": "stdout",
     "output_type": "stream",
     "text": [
      "5335.0\n",
      "joe made a profit\n"
     ]
    }
   ],
   "source": [
    "purchase_unit = 2000\n",
    "purchase_price = 40\n",
    "BROKER_COMISSION = 0.03\n",
    "SELL_SHARES_UNIT = 2000\n",
    "SELL_SHARE_PRICE = 42.75\n",
    "\n",
    "#• The amount of money Joe paid for the stock.\n",
    "total_purchase_price = purchase_unit * purchase_price\n",
    "\n",
    "#• The amount of commission Joe paid his broker when he bought the stock.\n",
    "total_purchase_comission_paid = total_purchase_price * BROKER_COMISSION\n",
    "\n",
    "#• The amount for which Joe sold the stock.\n",
    "total_sale_proceeds = SELL_SHARE_PRICE * purchase_unit\n",
    "\n",
    "#The amount of commission Joe paid his broker when he sold the stock.\n",
    "total_sale_comission_paid =  total_sale_proceeds * BROKER_COMISSION \n",
    "\n",
    "net_income = -(total_purchase_price - total_purchase_comission_paid ) + (total_sale_proceeds - total_sale_comission_paid )\n",
    "print(net_income)\n",
    "\n",
    "if (net_income < 0):\n",
    "    print(\"joe lost money\")\n",
    "elif (net_income > 0):\n",
    "    print(\"joe made a profit\")\n",
    "else:\n",
    "    print(\"joe broke even\")"
   ]
  },
  {
   "cell_type": "markdown",
   "metadata": {},
   "source": [
    "<h3>Question 13</h3>\n",
    "\n",
    "A vineyard owner is planting several new rows of grapevines, and needs to know how many \n",
    "grapevines to plant in each row. She has determined that after measuring the length of a \n",
    "future row, she can use the following formula to calculate the number of vines that will fit \n",
    "in the row, along with the trellis end-post assemblies that will need to be constructed at \n",
    "each end of the row:\n",
    "V 5 R 2 2E\n",
    " S\n",
    "The terms in the formula are:\n",
    "V is the number of grapevines that will fit in the row.\n",
    "R is the length of the row, in feet.\n",
    "E is the amount of space, in feet, used by an end-post assembly.\n",
    "S is the space between vines, in feet.\n",
    "Write a program that makes the calculation for the vineyard owner. The program should \n",
    "ask the user to input the following:\n",
    "• The length of the row, in feet\n",
    "• The amount of space used by an end-post assembly, in feet\n",
    "• The amount of space between the vines, in feet\n",
    "Once the input data has been entered, the program should calculate and display the number of grapevines that will fit in the row."
   ]
  },
  {
   "cell_type": "code",
   "execution_count": 36,
   "metadata": {},
   "outputs": [
    {
     "name": "stdout",
     "output_type": "stream",
     "text": [
      "the value of v is 0.667\n"
     ]
    }
   ],
   "source": [
    "r = int(input(\"enter the value for r:\"))\n",
    "e = int(input(\"enter the value for e:\"))\n",
    "s = int(input(\"enter the value for s:\"))\n",
    "\n",
    "v = (r - 2*e) / s\n",
    "print(\"the value of v is {v}\".format(v= round(v,3)))"
   ]
  },
  {
   "cell_type": "markdown",
   "metadata": {},
   "source": [
    "<h3>Question 14 </h3>\n",
    "\n",
    "When a bank account pays compound interest, it pays interest not only on the principal \n",
    "amount that was deposited into the account, but also on the interest that has accumulated \n",
    "over time. Suppose you want to deposit some money into a savings account, and let the \n",
    "account earn compound interest for a certain number of years. The formula for calculating \n",
    "the balance of the account after a specified number of years is:\n",
    "A 5 P(1 + r)^nt\n",
    " n\n",
    "The terms in the formula are:\n",
    "A is the amount of money in the account after the specified number of years.\n",
    "P is the principal amount that was originally deposited into the account.\n",
    "r is the annual interest rate.\n",
    "n is the number of times per year that the interest is compounded.\n",
    "t is the specified number of years.\n",
    "Write a program that makes the calculation for you. The program should ask the user to \n",
    "input the following:\n",
    "• The amount of principal originally deposited into the account\n",
    "• The annual interest rate paid by the account\n",
    "• The number of times per year that the interest is compounded (For example, if interest \n",
    "is compounded monthly, enter 12. If interest is compounded quarterly, enter 4.)\n",
    "• The number of years the account will be left to earn interest\n",
    "Once the input data has been entered, the program should calculate and display the amount \n",
    "of money that will be in the account after the specified number of years.\n",
    "\n",
    "\n"
   ]
  },
  {
   "cell_type": "code",
   "execution_count": null,
   "metadata": {},
   "outputs": [],
   "source": [
    "def interestCalculator(principal, interest, compound, year): \n",
    "    factor = math.pow((1 + interest / compound), compound * year) \n",
    "    amount = principal * factor \n",
    "    return amount\n",
    "\n",
    "output = interestCalculator(1000, 0.05, 1, 5)\n",
    "\n",
    "print(output)"
   ]
  }
 ],
 "metadata": {
  "kernelspec": {
   "display_name": "Python 3",
   "language": "python",
   "name": "python3"
  },
  "language_info": {
   "codemirror_mode": {
    "name": "ipython",
    "version": 3
   },
   "file_extension": ".py",
   "mimetype": "text/x-python",
   "name": "python",
   "nbconvert_exporter": "python",
   "pygments_lexer": "ipython3",
   "version": "3.9.7"
  }
 },
 "nbformat": 4,
 "nbformat_minor": 2
}
