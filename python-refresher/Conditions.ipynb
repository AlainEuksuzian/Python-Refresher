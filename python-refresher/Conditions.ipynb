{
 "cells": [
  {
   "cell_type": "markdown",
   "metadata": {},
   "source": [
    "<h3> Question 1</h3>\n",
    "\n",
    "Write a program that asks the user to enter an integer. The program should display \n",
    "“Positive” if the number is greater than 0, “Negative” if the number is less than 0, and \n",
    "“Zero” if the number is equal to 0. The program should then display “Even” if the number\n",
    "is even, and “Odd” if the number is odd."
   ]
  },
  {
   "cell_type": "code",
   "execution_count": 1,
   "metadata": {},
   "outputs": [
    {
     "name": "stdout",
     "output_type": "stream",
     "text": [
      "zero even\n"
     ]
    }
   ],
   "source": [
    "def numberComparator(number):\n",
    "    out = \"\"\n",
    "    out2 = 'even' if number % 2 == 0 else 'odd'\n",
    "    \n",
    "    if ( number > 0):\n",
    "        out = \"positive\"\n",
    "    elif (number < 0):\n",
    "        out = \"negative\"\n",
    "    else:\n",
    "        out = \"zero\"\n",
    "    return out, out2\n",
    "\n",
    "output1, output2 = (numberComparator(0))\n",
    "\n",
    "print(output1, output2)"
   ]
  },
  {
   "cell_type": "markdown",
   "metadata": {},
   "source": [
    "<h3> Question 2 </h3>\n",
    "The area of a rectangle is the rectangle’s length times its width. Write a program that asks \n",
    "for the length and width of two rectangles. The program should tell the user which rectangle has the greater area, or if the areas are the same"
   ]
  },
  {
   "cell_type": "code",
   "execution_count": 13,
   "metadata": {},
   "outputs": [
    {
     "name": "stdout",
     "output_type": "stream",
     "text": [
      "10.0\n",
      "area one is bigger\n"
     ]
    }
   ],
   "source": [
    "rectangle_one_length = float(input(\"enter the length of rectangle One: \"))\n",
    "rectangle_one_width = float(input(\"enter the width of rectangle one\"))\n",
    "\n",
    "rectangle_two_length = float(input(\"enter the width of rectangle two\"))\n",
    "rectangle_two_width = float(input(\"enter the width of rectangle two\"))\n",
    "\n",
    "\n",
    "def rectangleComparator(length_one, width_one, length_two, width_two):\n",
    "    area_one = length_one * width_one   #10 5\n",
    "    area_two = length_two * width_two   # 5 5\n",
    "    out = \"\"\n",
    "\n",
    "    if (area_one > area_two):\n",
    "        out = \"area one is bigger\"\n",
    "    elif (area_two > area_one):\n",
    "        out = \"area two is bigger\"\n",
    "    else:\n",
    "        out = \"they are equal\"\n",
    "\n",
    "    return out\n",
    "\n",
    "\n",
    "rectangle_output = rectangleComparator(rectangle_one_length, rectangle_one_width, rectangle_two_length, rectangle_two_width)\n",
    "print(rectangle_output)"
   ]
  },
  {
   "cell_type": "markdown",
   "metadata": {},
   "source": [
    "<h3>Question 3 </h3>\n",
    "\n",
    "Write a program that asks the user for a month as a number between 1 and 12. The \n",
    "program should display a message indicating whether the month is in the first quarter, \n",
    "the second quarter, the third quarter, or the fourth quarter of the year. Following are the \n",
    "guidelines:\n",
    "    •\t If the user enters either 1, 2, or 3, the month is in the first quarter.\n",
    "    •\t If the user enters a number between 4 and 6, the month is in the second quarter.\n",
    "    •\t If the number is either 7, 8, or 9, the month is in the third quarter.\n",
    "    •\t If the month is between 10 and 12, the month is in the fourth quarter.\n",
    "    •\t If the number is not between 1 and 12, the program should display an error."
   ]
  },
  {
   "cell_type": "code",
   "execution_count": 23,
   "metadata": {},
   "outputs": [
    {
     "name": "stdout",
     "output_type": "stream",
     "text": [
      "\n",
      " did not work month should be a number, try again\n",
      "fourth quarter\n"
     ]
    }
   ],
   "source": [
    "month_input= \"\"\n",
    "\n",
    "while(True):\n",
    "    try :\n",
    "        month_input = int(input(\"enter the month in numeric value: \"))\n",
    "        break\n",
    "    except:\n",
    "        print(\" did not work month should be a number, try again\")\n",
    "    \n",
    "\n",
    "\n",
    "def month_Calculator(month):\n",
    "    output = \"\"\n",
    "    if (month <= 3):\n",
    "        output = \"first quarter\"\n",
    "    elif (month <= 6):\n",
    "        output = \"second quarter\"\n",
    "    elif (month <= 9):\n",
    "        output = \"third quarter\"\n",
    "    elif (month <= 12):\n",
    "        output = \"fourth quarter\"\n",
    "    else:\n",
    "        output = \"invalid entry\"\n",
    "    return output\n",
    "\n",
    "print(month_Calculator(month_input))"
   ]
  },
  {
   "cell_type": "markdown",
   "metadata": {},
   "source": [
    "<h3> question 4 </h3>\n",
    "Scientists measure an object’s mass in kilograms and its weight in newtons. If you know \n",
    "the amount of mass of an object in kilograms, you can calculate its weight in newtons with \n",
    "the following formula:\n",
    "weight = mass * 9.8\n",
    "Write a program that asks the user to enter an object’s mass, then calculates its weight. If \n",
    "the object weighs more than 500 newtons, display a message indicating that it is too heavy. \n",
    "If the object weighs less than 100 newtons, display a message indicating that it is too light"
   ]
  },
  {
   "cell_type": "code",
   "execution_count": 30,
   "metadata": {},
   "outputs": [
    {
     "name": "stdout",
     "output_type": "stream",
     "text": [
      "With a mass of 6521.111, the weight is 63906.888 newton and it is too heavy\n"
     ]
    }
   ],
   "source": [
    "mass_input = float(input(\"enter the mass: \"))\n",
    "WEIGHT_CONVERTER = 9.8\n",
    "\n",
    "def weight_calculator(mass : float):\n",
    "    weight = WEIGHT_CONVERTER  * 9.8\n",
    "    weight_comment = \"\" \n",
    "\n",
    "    if (weight > 500):\n",
    "        weight_comment = \"too heavy\"\n",
    "    elif (weight < 100):\n",
    "        weight_comment = \"too light\"\n",
    "\n",
    "    return weight, weight_comment\n",
    "\n",
    "weight_cal, weight_output = weight_calculator(mass_input)   \n",
    "\n",
    "print(f\"With a mass of {mass_input}, the weight is {round(weight_cal, 3)} newton and it is {weight_output}\")\n"
   ]
  },
  {
   "cell_type": "markdown",
   "metadata": {},
   "source": [
    "<h3> question 5 </h3>\n",
    "The date June 10, 1960, is special because when it is written in the following format, the \n",
    "month times the day equals the year:\n",
    "6/10/60\n",
    "Design a program that asks the user to enter a month (in numeric form), a day, and a two\u0002digit year. The program should then determine whether the month times the day equals the \n",
    "year. If so, it should display a message saying the date is magic. Otherwise, it should display \n",
    "a message saying the date is not magic.\n"
   ]
  },
  {
   "cell_type": "code",
   "execution_count": 59,
   "metadata": {},
   "outputs": [
    {
     "name": "stdout",
     "output_type": "stream",
     "text": [
      "magic\n"
     ]
    }
   ],
   "source": [
    "monthlist = []\n",
    "month = input(\"enter a date in the form of dd/mm/yy: \")\n",
    "monthlist = month.split(\"/\")\n",
    "\n",
    "if (int(monthlist[0]) * int(monthlist[1]) == int(monthlist[2])):\n",
    "    print(\"magic\")\n",
    "else:\n",
    "    print(\"not magic\")"
   ]
  },
  {
   "cell_type": "markdown",
   "metadata": {},
   "source": [
    "<h3>Question 6</h3>\n",
    "<pre>A class has two tests worth 25 points each along with a main exam worth 50 points. For a stu\u0002dent to pass the class, \n",
    "they must obtain an overall score of at least 50 points, and must obtain at least 25 points in the main exam. If a student’s\n",
    " total score is less than 50 or they obtain less than \n",
    "25 points in the main exam, they receive a grade of “Fail”. Otherwise, their grade is as follows: \n",
    "\n",
    "If they get more than 80, they get a grade of “Distinction”.\n",
    "If they get less than 80 but more than 60, they get a “Credit” grade.\n",
    "If they get less than 60, they get a ”Pass” grade.\n",
    "below 50 : \"fail\" grade\n",
    "\n",
    "Write a program that prompts the user to enter their points for both tests and the exam and \n",
    "converts the values to integers. The program should first check if the points entered for the \n",
    "tests and exam are valid. If any of the test scores are not between 0 and 25, or the exam \n",
    "score is not between 0 and 50, the program should display an error message. Otherwise, \n",
    "the program should display the total points and the grade. </pre>"
   ]
  },
  {
   "cell_type": "code",
   "execution_count": 5,
   "metadata": {},
   "outputs": [
    {
     "name": "stdout",
     "output_type": "stream",
     "text": [
      "the final grade of the student is: 99.0%\n",
      "with the class comment: DISTINCTION\n"
     ]
    }
   ],
   "source": [
    "TESTS_WEIGHT = 0.25\n",
    "EXAM_WEIGHT = 0.5\n",
    "PASSING_THRESHOLD = 50\n",
    "\n",
    "grade_comment_output : str = \"\"\n",
    "\n",
    "def compute_grade():\n",
    "    test_one = int(input(\"enter a percentage grade of test one :  \"))  \n",
    "    test_two = int(input(\"enter a percentage grade of test two : \"))\n",
    "    exam = int(input(\"enter a percentage grade of exam : \"))\n",
    "\n",
    "    final_grade = (test_one * TESTS_WEIGHT) + (test_two * TESTS_WEIGHT) + (exam* EXAM_WEIGHT)\n",
    "    return final_grade\n",
    "\n",
    "def grade_comment(total_grade : int):\n",
    "    if (total_grade >= 80):\n",
    "        grade_comment_output = \"Distinction\"\n",
    "    elif (total_grade < 80 and total_grade >= 60 ):\n",
    "        grade_comment_output = \"Credit\"\n",
    "    elif (total_grade < 60 and total_grade >= 50 ):\n",
    "        grade_comment_output = \"pass\"\n",
    "    else:\n",
    "        grade_comment_output = \"fail\"\n",
    "    return grade_comment_output\n",
    "\n",
    "\n",
    "final_grade=  compute_grade()\n",
    "grade_comment_output = grade_comment(final_grade)\n",
    "\n",
    "print(\"the final grade of the student is: {fGrade}%\\nwith the class comment: {comment}\".format(fGrade =final_grade, comment = grade_comment_output.upper()))\n"
   ]
  },
  {
   "cell_type": "markdown",
   "metadata": {},
   "source": [
    "<h3> Question 7</h3>\n",
    "Assume hot dogs come in packages of 10, and hot dog buns come in packages of 8. Write a \n",
    "program that calculates the number of packages of hot dogs and the number of packages of \n",
    "hot dog buns needed for a cookout, with the minimum amount of leftovers. The program \n",
    "should ask the user for the number of people attending the cookout and the number of hot \n",
    "dogs each person will be given. The program should display the following details:\n",
    "•\t The minimum number of packages of hot dogs required\n",
    "•\t The minimum number of packages of hot dog buns required\n",
    "•\t The number of hot dogs that will be left over\n",
    "•\t The number of hot dog buns that will be left over"
   ]
  },
  {
   "cell_type": "code",
   "execution_count": 17,
   "metadata": {},
   "outputs": [
    {
     "name": "stdout",
     "output_type": "stream",
     "text": [
      "The minimum number of packages of hot dogs required is 3\n",
      "The minimum number of packages of hot dog buns required is 4\n",
      "The number of hot dogs that will be left over is 0\n",
      "The number of hot dog buns that will be left over is 2\n"
     ]
    }
   ],
   "source": [
    "\n",
    "people = int(input(\"How many people are attending the cookout? \"))\n",
    "hot_dogs_per_person = int(input(\"How many hot dogs will each person be given? \"))\n",
    "\n",
    "\n",
    "total_hot_dogs = people * hot_dogs_per_person\n",
    "\n",
    "\n",
    "hot_dog_packages = (total_hot_dogs + 9) // 10\n",
    "bun_packages = (total_hot_dogs + 7) // 8 \n",
    "\n",
    "\n",
    "hot_dogs_left_over = hot_dog_packages * 10 - total_hot_dogs\n",
    "buns_left_over = bun_packages * 8 - total_hot_dogs\n",
    "\n",
    "# Display the results\n",
    "print(\"The minimum number of packages of hot dogs required is\", hot_dog_packages)\n",
    "print(\"The minimum number of packages of hot dog buns required is\", bun_packages)\n",
    "print(\"The number of hot dogs that will be left over is\", hot_dogs_left_over)\n",
    "print(\"The number of hot dog buns that will be left over is\", buns_left_over)"
   ]
  },
  {
   "cell_type": "markdown",
   "metadata": {},
   "source": [
    "<h3>Question 8</h3>\n",
    "<pre>On a roulette wheel, the pockets are numbered from 0 to 36. The colors of the pockets are \n",
    "as follows:\n",
    "•\t Pocket 0 is green.\n",
    "•\t For pockets 1 through 10, the odd-numbered pockets are red and the even-numbered \n",
    "pockets are black.\n",
    "•\t For pockets 11 through 18, the odd-numbered pockets are black and the even-numbered \n",
    "pockets are red.\n",
    "•\t For pockets 19 through 28, the odd-numbered pockets are red and the even-numbered \n",
    "pockets are black.\n",
    "•\t For pockets 29 through 36, the odd-numbered pockets are black and the even-numbered \n",
    "pockets are red.\n",
    "Write a program that asks the user to enter a pocket number and displays whether the \n",
    "pocket is green, red, or black. The program should display an error message if the user \n",
    "enters a number that is outside the range of 0 through 36.</pre>"
   ]
  },
  {
   "cell_type": "code",
   "execution_count": 22,
   "metadata": {},
   "outputs": [
    {
     "name": "stdout",
     "output_type": "stream",
     "text": [
      "with the number 99, chosen by user the output color is error, not in range\n",
      "with the number 25, chosen by random, the output color is red\n"
     ]
    }
   ],
   "source": [
    "import random as rand\n",
    "num_input : int = int(input(\"enter a pocket number between 1 and 36: \"))\n",
    "num_input_random = rand.randint(1,36)\n",
    "\n",
    "def roulette_wheel(pocket : int):\n",
    "    output_wheel = \"\"\n",
    "\n",
    "    if (pocket >= 1 and pocket <= 10):\n",
    "        if (pocket % 2 == 0):\n",
    "            output_wheel = \"black\"\n",
    "        else:\n",
    "            output_wheel = \"red\"\n",
    "    elif (pocket >= 11 and pocket <= 18):\n",
    "        if (pocket % 2 == 0 ):\n",
    "            output_wheel = \"red\"\n",
    "        else:\n",
    "            output_wheel = \"black\"\n",
    "    elif (pocket >= 19 and pocket <= 28):\n",
    "        if (pocket % 2 == 0):\n",
    "            output_wheel = \"black\"\n",
    "        else:\n",
    "            output_wheel = \"red\"\n",
    "    elif (pocket >=29 and pocket <= 36):\n",
    "        if (pocket % 2 == 0):\n",
    "            output_wheel = \"red\"\n",
    "        else:\n",
    "            output_wheel = \"black\"\n",
    "    else:\n",
    "        output_wheel =\"error, not in range\"\n",
    "\n",
    "    return output_wheel\n",
    "\n",
    "color_output = roulette_wheel(num_input)\n",
    "color_out_random = roulette_wheel(num_input_random)\n",
    "\n",
    "print(\"with the number {num}, chosen by user the output color is {color}\".format(num = num_input, color = color_output))\n",
    "print(\"with the number {num}, chosen by random, the output color is {color}\".format(num = num_input_random, color = color_out_random ))"
   ]
  },
  {
   "cell_type": "markdown",
   "metadata": {},
   "source": [
    "<h3>Question 9</h3>\n",
    "Create a change-counting game that gets the user to enter the number of coins required \n",
    "to make exactly one dollar. The program should prompt the user to enter the number of \n",
    "pennies, nickels, dimes, and quarters. If the total value of the coins entered is equal to one \n",
    "dollar, the program should congratulate the user for winning the game. Otherwise, the \n",
    "program should display a message indicating whether the amount entered was more than \n",
    "or less than one dollar"
   ]
  },
  {
   "cell_type": "code",
   "execution_count": 54,
   "metadata": {},
   "outputs": [
    {
     "name": "stdout",
     "output_type": "stream",
     "text": [
      "cannot drop below 0\n",
      "the number of change to make a dollar is ['0.99', '0.01']\n"
     ]
    }
   ],
   "source": [
    "dollar_amount = 100\n",
    "change_input = []\n",
    "\n",
    "while (dollar_amount != 0):\n",
    "    change = int(round(float(input(\"enter the number of change smaller than ${remaining}\".format(remaining = format(dollar_amount / 100, '.2f')))) * 100)) \n",
    "    if ( dollar_amount - change < 0 ):\n",
    "        print(\"cannot drop below 0\")\n",
    "        change = 0\n",
    "    else:\n",
    "        change_input.append(change)\n",
    "        dollar_amount -= change\n",
    "    if (dollar_amount == 0):\n",
    "        break\n",
    "\n",
    "print(\"the number of change to make a dollar is {l}\".format(l = [format(c / 100, '.2f') for c in change_input])) # convert the change list to dollars"
   ]
  },
  {
   "cell_type": "code",
   "execution_count": 42,
   "metadata": {},
   "outputs": [
    {
     "name": "stdout",
     "output_type": "stream",
     "text": [
      "[0.25, 0.25, 0.25, 0.25]\n",
      "<class 'str'>\n",
      "the number of change entered is [0.25, 0.25, 0.25, 0.25]\n"
     ]
    }
   ],
   "source": [
    "%reset -f\n",
    "\n",
    "dollar_amount = 1\n",
    "change_type = [0.01,0.05,0.1,0.25]         \n",
    "change_input = []\n",
    "\n",
    "while(dollar_amount > 0):\n",
    "    dollar_amount = round(dollar_amount,2)\n",
    "    change = float(input(\"enter the amount of change for the remaining target: {c} \".format(c = dollar_amount)))\n",
    "    if (change_type.__contains__(change) == False):\n",
    "        print(\"invalid change type\")\n",
    "        change == 0\n",
    "    else:\n",
    "\n",
    "        if ( dollar_amount - change < 0):\n",
    "            print(\"cannot drop below 0\")\n",
    "            change = 0\n",
    "        else:\n",
    "            change_input.append(change)\n",
    "            dollar_amount -= change\n",
    "    \n",
    "\n",
    "print(\"the number of change entered is: {j}\".format(j = change_input))\n",
    "\n"
   ]
  },
  {
   "cell_type": "markdown",
   "metadata": {},
   "source": [
    "<h3>Question 11</h3>\n",
    "<pre>A software company sells a package that retails for $99. Quantity discounts are given \n",
    "according to the following table:\n",
    "Quantity Discount\n",
    "10–19 10%\n",
    "20–49 20%\n",
    "50–99 30%\n",
    "100 or more 40%\n",
    "Write a program that asks the user to enter the number of packages purchased. The pro\u0002gram should then display the amount \n",
    "of the discount (if any) and the total amount of the \n",
    "purchase after the discount.</pre>"
   ]
  },
  {
   "cell_type": "code",
   "execution_count": 60,
   "metadata": {},
   "outputs": [
    {
     "name": "stdout",
     "output_type": "stream",
     "text": [
      "0.3\n"
     ]
    }
   ],
   "source": [
    "DISCOUNT_TIER_ONE = 0.1\n",
    "DISCOUNT_TIER_TWO = 0.2\n",
    "DISCOUNT_TIER_THREE = 0.3\n",
    "DISCOUNT_TIER_FOUR = 0.4\n",
    "\n",
    "purchase_units = int(input(\"enter the amount of software packages purchased: \"))\n",
    "applied_discount  = 0\n",
    "\n",
    "def discountCalculator(units : int):\n",
    "    if (units >= 10 and units <= 19):\n",
    "        applied_discount = DISCOUNT_TIER_ONE\n",
    "    elif (units >= 20 and units <= 49):\n",
    "        applied_discount = DISCOUNT_TIER_TWO\n",
    "    elif (units >= 50 and units <= 99):\n",
    "        applied_discount = DISCOUNT_TIER_THREE\n",
    "    elif (units >= 100):\n",
    "        applied_discount = DISCOUNT_TIER_TWO\n",
    "    else:\n",
    "        applied_discount = 0\n",
    "\n",
    "    return applied_discount\n",
    "\n",
    "\n",
    "print(discountCalculator(purchase_units))\n"
   ]
  },
  {
   "cell_type": "markdown",
   "metadata": {},
   "source": [
    "<h3>Question 12</h3>\n",
    "Write a program that calculates and displays a person’s body mass index (BMI). The BMI\n",
    "is often used to determine whether a person is overweight or underweight for his or her \n",
    "height. A person’s BMI is calculated with the following formula:\n",
    "BMI 5 weight 3 703/height2\n",
    "where weight is measured in pounds and height is measured in inches. The program should \n",
    "ask the user to enter his or her weight and height, then display the user’s BMI. The pro\u0002gram should also display a message indicating whether the person has optimal weight, is \n",
    "underweight, or is overweight. A person’s weight is considered to be optimal if his or her \n",
    "Programming Exercises 177\n",
    "BMI is between 18.5 and 25. If the BMI is less than 18.5, the person is considered to be\n",
    "underweight. If the BMI value is greater than 25, the person is considered to be overweight."
   ]
  },
  {
   "cell_type": "code",
   "execution_count": 26,
   "metadata": {},
   "outputs": [
    {
     "name": "stdout",
     "output_type": "stream",
     "text": [
      "with a bmi of 25.06 the person is overweight\n"
     ]
    }
   ],
   "source": [
    "import math\n",
    "weight_input = int(input(\"enter your weight in pounds: \"))\n",
    "height_input = int(input(\"enter your height in inch: \"))\n",
    "\n",
    "bmi = weight_input/ math.pow(height_input,2) * 703\n",
    "\n",
    "def bmi_comment(bmi_input: float):\n",
    "    if (bmi_input >= 18.5 and bmi_input <= 25):\n",
    "        return \"optimal\"\n",
    "    elif (bmi_input < 18.5):\n",
    "        return \"underweight\"\n",
    "    else:\n",
    "        return \"overweight\"\n",
    "\n",
    "print(\"with a bmi of {bmi_holder} the person is {bmiComment}\".format(bmi_holder = round(bmi,2), bmiComment = bmi_comment(bmi)))\n"
   ]
  },
  {
   "cell_type": "markdown",
   "metadata": {},
   "source": [
    "<h3>Question 13 </h3>\n",
    "<pre>Write a program that asks the user to enter a number of seconds and works as follows:\n",
    "•\t There are 60 seconds in a minute. If the number of seconds entered by the user is greater\n",
    "than or equal to 60, the program should convert the number of seconds to minutes and \n",
    "seconds.\n",
    "•\t There are 3,600 seconds in an hour. If the number of seconds entered by the user is \n",
    "greater than or equal to 3,600, the program should convert the number of seconds to \n",
    "hours, minutes, and seconds.\n",
    "•\t There are 86,400 seconds in a day. If the number of seconds entered by the user is \n",
    "greater than or equal to 86,400, the program should convert the number of seconds to \n",
    "days, hours, minutes, and seconds.</pre>"
   ]
  },
  {
   "cell_type": "code",
   "execution_count": 45,
   "metadata": {},
   "outputs": [
    {
     "name": "stdout",
     "output_type": "stream",
     "text": [
      "1:23:20\n"
     ]
    }
   ],
   "source": [
    "user_input_time = int(input(\"enter the number of seconds: \"))\n",
    "\n",
    "def time_convertor(time):\n",
    "    out = \"\"\n",
    "\n",
    "    if (time >=60 and time < 3600):\n",
    "        mins =  time // 60\n",
    "        time = time % 60 \n",
    "        seconds = time \n",
    "        out = str(mins) + \":\" + str(seconds) \n",
    "    \n",
    "    elif (time >=3600 and time < 86400):\n",
    "      seconds = time % 60\n",
    "      time = time - seconds \n",
    "      minutes = time // 60 \n",
    "      hours = minutes // 60 \n",
    "      minutes = minutes % 60 \n",
    "      out = str(hours)  + \":\" + str(minutes)  + \":\" + str(seconds)\n",
    "\n",
    "    elif (time >= 86400):\n",
    "        seconds = time % 60\n",
    "        time = time - seconds \n",
    "        minutes = time // 60 \n",
    "        hours = minutes // 3600 \n",
    "        minutes = minutes % 3600\n",
    "        days = hours // 24\n",
    "        hours = hours % 24 \n",
    "        out = str(days) + \":\" + str(hours)  + \":\" + str(minutes)  + \":\" + str(seconds)\n",
    "    else:\n",
    "        out = str(time)\n",
    "\n",
    "    return out\n",
    "\n",
    "print(time_convertor(user_input_time))"
   ]
  },
  {
   "cell_type": "markdown",
   "metadata": {},
   "source": [
    "<h3>Question 14</h3>\n",
    "<pre>The month of February normally has 28 days. But if it is a leap year, February has 29 days. \n",
    "Write a program that asks the user to enter a year. The program should then display the \n",
    "number of days in February that year. Use the following criteria to identify leap years:\n",
    "1. Determine whether the year is divisible by 100. If it is, then it is a leap year if and only \n",
    "if it is also divisible by 400. For example, 2000 is a leap year, but 2100 is not.\n",
    "\n",
    "2. If the year is not divisible by 100, then it is a leap year if and only if it is divisible by 4. \n",
    "For example, 2008 is a leap year, but 2009 is not.</pre>"
   ]
  },
  {
   "cell_type": "code",
   "execution_count": 1,
   "metadata": {},
   "outputs": [
    {
     "name": "stdout",
     "output_type": "stream",
     "text": [
      "it is a leap year\n"
     ]
    }
   ],
   "source": [
    "user_input_year = int(input(\"enter the year in question\"))\n",
    "\n",
    "def leap_year_convertor(year):\n",
    "\n",
    "    if (year % 100 == 0):\n",
    "        if (year % 400 == 0):\n",
    "            return True\n",
    "\n",
    "    elif (year % 100 != 0):\n",
    "        if (year % 4 == 0):\n",
    "            return True\n",
    "\n",
    "    return False\n",
    "\n",
    "if ( leap_year_convertor(user_input_year)):\n",
    "    print(\"it is a leap year\")\n",
    "else:\n",
    "    print(\"not a leap year\")\n"
   ]
  }
 ],
 "metadata": {
  "kernelspec": {
   "display_name": "Python 3",
   "language": "python",
   "name": "python3"
  },
  "language_info": {
   "codemirror_mode": {
    "name": "ipython",
    "version": 3
   },
   "file_extension": ".py",
   "mimetype": "text/x-python",
   "name": "python",
   "nbconvert_exporter": "python",
   "pygments_lexer": "ipython3",
   "version": "3.9.7"
  }
 },
 "nbformat": 4,
 "nbformat_minor": 2
}
