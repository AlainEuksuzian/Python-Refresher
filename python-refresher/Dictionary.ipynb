{
 "cells": [
  {
   "cell_type": "code",
   "execution_count": 2,
   "metadata": {},
   "outputs": [],
   "source": [
    "import random as rand\n",
    "import matplotlib.pyplot as plt\n",
    "import numpy as np"
   ]
  },
  {
   "cell_type": "markdown",
   "metadata": {},
   "source": [
    "Write a program that creates a dictionary containing the U.S. states as keys, and their capi\u0002tals as values. (Use the Internet to get a list of the states and their capitals.) The program \n",
    "should then randomly quiz the user by displaying the name of a state and asking the user \n",
    "to enter that state’s capital. The program should keep a count of the number of correct and \n",
    "incorrect responses. (As an alternative to the U.S. states, the program can use the names of \n",
    "countries and their capitals.)"
   ]
  },
  {
   "cell_type": "code",
   "execution_count": null,
   "metadata": {},
   "outputs": [],
   "source": []
  },
  {
   "cell_type": "markdown",
   "metadata": {},
   "source": [
    "Write a program that uses a dictionary to assign “codes” to each letter of the alphabet. For \n",
    "example:\n",
    "codes = { ‘A’ : ‘%’, ‘a’ : ‘9’, ‘B’ : ‘@’, ‘b’ : ‘#’, etc . . .}\n",
    "Using this example, the letter A would be assigned the symbol %, the letter a would be \n",
    "assigned the number 9, the letter B would be assigned the symbol @, and so forth.\n",
    "The program should open a specified text file, read its contents, then use the dictionary \n",
    "to write an encrypted version of the file’s contents to a second file. Each character in the \n",
    "second file should contain the code for the corresponding character in the first file.\n",
    "Write a second program that opens an encrypted file and displays its decrypted contents \n",
    "on the screen."
   ]
  },
  {
   "cell_type": "code",
   "execution_count": null,
   "metadata": {},
   "outputs": [],
   "source": []
  },
  {
   "cell_type": "markdown",
   "metadata": {},
   "source": [
    "4.. Unique Words\n",
    "Write a program that opens a specified text file then displays a list of all the unique words \n",
    "found in the file."
   ]
  },
  {
   "cell_type": "code",
   "execution_count": null,
   "metadata": {},
   "outputs": [],
   "source": []
  },
  {
   "cell_type": "markdown",
   "metadata": {},
   "source": [
    "5. Random Number Frequencies\n",
    "Write a program that generates 100 random numbers between 1 and 10. The program\n",
    "should store the frequency of each number generated in a dictionary with the number as \n",
    "the key and the amount of times it has occurred as the value. For example, if the program \n",
    "generates the number 6 a total of 11 times, the dictionary will contain a key of 6 with an\n",
    "associated value of 11. Once all of the numbers have been generated, display information\n",
    "about the frequency of each number."
   ]
  },
  {
   "cell_type": "code",
   "execution_count": 4,
   "metadata": {},
   "outputs": [
    {
     "data": {
      "image/png": "[encoded data removed]",
      "text/plain": [
       "<Figure size 700x500 with 1 Axes>"
      ]
     },
     "metadata": {},
     "output_type": "display_data"
    }
   ],
   "source": [
    "def main():\n",
    "    random_number_frequency_counter = {}\n",
    "\n",
    "    for i in range(100):\n",
    "        random_number_genereated = rand.randint(1,10)\n",
    "\n",
    "        if random_number_genereated not in random_number_frequency_counter:\n",
    "            random_number_frequency_counter[random_number_genereated] = 1\n",
    "        else:\n",
    "            random_number_frequency_counter[random_number_genereated]+=1\n",
    "\n",
    "    bar_chart_generator(random_number_frequency_counter.keys(), random_number_frequency_counter.values())\n",
    "\n",
    "\n",
    "def bar_chart_generator(x_value, y_value):\n",
    "    plt.figure(figsize=(7,5))\n",
    "    plt.bar(x_value, y_value)\n",
    "    plt.xlabel('random numbers')\n",
    "    plt.ylabel('random number frequency')\n",
    "    plt.xticks(np.arange(min(x_value), max(x_value)+1, 1.0))\n",
    "    plt.show()\n",
    "\n",
    "\n",
    "main()\n"
   ]
  },
  {
   "cell_type": "markdown",
   "metadata": {},
   "source": [
    "6. File Analysis\n",
    "Write a program that reads the contents of two text files and compares them in the fol\u0002lowing ways:\n",
    "• It should display a list of all the unique words contained in both files.\n",
    "• It should display a list of the words that appear in both files.\n",
    "• It should display a list of the words that appear in the first file but not the second.\n",
    "• It should display a list of the words that appear in the second file but not the first.\n",
    "• It should display a list of the words that appear in either the first or second file, but not \n",
    "both."
   ]
  },
  {
   "cell_type": "code",
   "execution_count": null,
   "metadata": {},
   "outputs": [],
   "source": []
  },
  {
   "cell_type": "markdown",
   "metadata": {},
   "source": [
    "8. Pickled Vegetables\n",
    "Write a program that keeps vegetable names and prices in a dictionary as key-value pairs. \n",
    "The program should display a menu that lets the user see a list of all vegetables and their \n",
    "prices, add a new vegetable and price, change the price of an existing vegetable, and delete \n",
    "an existing vegetable and price. The program should pickle the dictionary and save it to a \n",
    "file when the user exits the program. Each time the program starts, it should retrieve the \n",
    "dictionary from the file and unpickle it."
   ]
  },
  {
   "cell_type": "code",
   "execution_count": null,
   "metadata": {},
   "outputs": [],
   "source": []
  },
  {
   "cell_type": "markdown",
   "metadata": {},
   "source": [
    "7. World Series Winners\n",
    "In this chapter’s source code folder (available on the Premium Companion Website at www.\n",
    "pearsonglobaleditions.com/gaddis), you will find a text file named WorldSeriesWinners.\n",
    "txt. This file contains a chronological list of the World Series’ winning teams from 1903\n",
    "through 2009. The first line in the file is the name of the team that won in 1903, and the\n",
    "last line is the name of the team that won in 2009. (Note the World Series was not played\n",
    "in 1904 or 1994. There are entries in the file indicating this.)\n",
    "Write a program that reads this file and creates a dictionary in which the keys are the names \n",
    "of the teams, and each key’s associated value is the number of times the team has won the \n",
    "World Series. The program should also create a dictionary in which the keys are the years, \n",
    "and each key’s associated value is the name of the team that won that year.\n",
    "The program should prompt the user for a year in the range of 1903 through 2009. It\n",
    "should then display the name of the team that won the World Series that year, and the \n",
    "number of times that team has won the World Series."
   ]
  },
  {
   "cell_type": "code",
   "execution_count": null,
   "metadata": {},
   "outputs": [],
   "source": []
  }
 ],
 "metadata": {
  "kernelspec": {
   "display_name": "Python 3",
   "language": "python",
   "name": "python3"
  },
  "language_info": {
   "codemirror_mode": {
    "name": "ipython",
    "version": 3
   },
   "file_extension": ".py",
   "mimetype": "text/x-python",
   "name": "python",
   "nbconvert_exporter": "python",
   "pygments_lexer": "ipython3",
   "version": "3.9.7"
  }
 },
 "nbformat": 4,
 "nbformat_minor": 2
}
