{
 "cells": [
  {
   "cell_type": "markdown",
   "metadata": {},
   "source": [
    "<h3>Question 1</h3>\n",
    "<pre>\n",
    "A bug collector collects bugs every day for five days. Write a program that keeps a running \n",
    "total of the number of bugs collected during the five days. The loop should ask for the \n",
    "number of bugs collected for each day, and when the loop is finished, the program should \n",
    "display the total number of bugs collected </pre>"
   ]
  },
  {
   "cell_type": "code",
   "execution_count": 30,
   "metadata": {},
   "outputs": [
    {
     "name": "stdout",
     "output_type": "stream",
     "text": [
      "150\n"
     ]
    }
   ],
   "source": [
    "total_bugs = 0\n",
    "\n",
    "for i in range(5):\n",
    "    bug_catch = int(input(\"how much bugs did you catch on day {day}\".format(day = i+1)))\n",
    "    total_bugs += bug_catch\n",
    "print(total_bugs)"
   ]
  },
  {
   "cell_type": "markdown",
   "metadata": {},
   "source": [
    "<h3>Question 2</h3>\n",
    "<pre>\n",
    "Running on a particular treadmill you burn 4.2 calories per minute. Write a program that \n",
    "uses a loop to display the number of calories burned after 10, 15, 20, 25, and 30 minutes </pre>"
   ]
  },
  {
   "cell_type": "code",
   "execution_count": 38,
   "metadata": {},
   "outputs": [
    {
     "name": "stdout",
     "output_type": "stream",
     "text": [
      "calories burned after 10 minutes is 42.0 \n",
      "calories burned after 15 minutes is 63.0 \n",
      "calories burned after 20 minutes is 84.0 \n",
      "calories burned after 25 minutes is 105.0 \n",
      "calories burned after 30 minutes is 126.0 \n",
      "total calories burned is 420.0\n",
      "{10: 42.0, 15: 63.0, 20: 84.0, 25: 105.0, 30: 126.0}\n"
     ]
    }
   ],
   "source": [
    "treadmill_calories = [10,15,20,25,30]\n",
    "CALORY_BURN = 4.2\n",
    "total_burns = 0\n",
    "mintes_calorie_storage = {}\n",
    "\n",
    "for i in treadmill_calories:\n",
    "    print(\"calories burned after {mins} minutes is {total_mins} \".format(mins = i, total_mins = i * CALORY_BURN ))\n",
    "    total_burns += i * CALORY_BURN\n",
    "    mintes_calorie_storage[i] = i * CALORY_BURN \n",
    "\n",
    "\n",
    "print(\"total calories burned is {total}\".format(total = round(total_burns,2)))\n",
    "print(mintes_calorie_storage)"
   ]
  },
  {
   "cell_type": "markdown",
   "metadata": {},
   "source": [
    "<h3>Question 3</h3>\n",
    "<pre>\n",
    "Write a program that asks the user to enter the number of times that they have run around \n",
    "a racetrack, and then uses a loop to prompt them to enter the lap time for each of their laps. \n",
    "When the loop finishes, the program should display the time of their fastest lap, the time of \n",
    "their slowest lap, and their average lap time </pre>"
   ]
  },
  {
   "cell_type": "code",
   "execution_count": 54,
   "metadata": {},
   "outputs": [
    {
     "name": "stdout",
     "output_type": "stream",
     "text": [
      "the fastest time is 4.0\n",
      "the slowest time is 11111.0\n",
      "the average time is 2382.8\n"
     ]
    }
   ],
   "source": [
    "#appraoch one\n",
    "\n",
    "lap_number = int(input(\"enter the number of laps you ran: \"))\n",
    "fastest_lap = None   # alternative: fastest_lap = float('inf')\n",
    "slowst_lap = None    # slowest_lap = float('-inf')\n",
    "average_time = 0\n",
    "\n",
    "for i in range(lap_number):\n",
    "    lap_time = float(input(\"enter the time it took to run lap {lapnum}\".format(lapnum = i + 1)))\n",
    "    if (fastest_lap == None or fastest_lap > lap_time ):\n",
    "        fastest_lap = lap_time\n",
    "\n",
    "    if (slowst_lap == None or slowst_lap < lap_time):\n",
    "        slowst_lap = lap_time\n",
    "        \n",
    "    average_time += lap_time\n",
    "\n",
    "print(\"the fastest time is {fast}\\nthe slowest time is {slow}\\nthe average time is {ave}\"\n",
    "      .format(fast =round(fastest_lap,2), slow = round(slowst_lap,2), ave =round(average_time/lap_number,2)))"
   ]
  },
  {
   "cell_type": "code",
   "execution_count": 4,
   "metadata": {},
   "outputs": [
    {
     "name": "stdout",
     "output_type": "stream",
     "text": [
      "Nothing done.\n",
      "the fastest time is 1.0\n",
      "the slowest time is 5.0\n",
      "the average time is 3.0\n"
     ]
    }
   ],
   "source": [
    "%reset - f\n",
    "#appraoch two\n",
    "\n",
    "lap_number = int(input(\"enter the number of laps: \"))\n",
    "lap_times = []\n",
    "average_time = 0\n",
    "\n",
    "for i in range(lap_number):\n",
    "     lap_time_ran = float(input(\"enter the time it took to run lap {lapnum}\".format(lapnum = i + 1)))\n",
    "     lap_times.append(lap_time_ran)\n",
    "     average_time += lap_time_ran\n",
    "\n",
    "lap_times.sort()\n",
    "\n",
    "fastest_lap = lap_times[0]\n",
    "slowst_lap = lap_times[len(lap_times) - 1]\n",
    "average = average_time / lap_number\n",
    "\n",
    "\n",
    "print(\"the fastest time is {fast}\\nthe slowest time is {slow}\\nthe average time is {ave}\"\n",
    "      .format(fast = round(fastest_lap,2),slow = round(slowst_lap,2),ave = round(average,2)))\n",
    "\n",
    "\n",
    "\n"
   ]
  },
  {
   "cell_type": "markdown",
   "metadata": {},
   "source": [
    "<h3>Question 4</h3>\n",
    "<pre>\n",
    "The distance a vehicle travels can be calculated as follows:\n",
    "distance = speed * time\n",
    "For example, if a train travels 40 miles per hour for three hours, the distance traveled is \n",
    "120 miles. Write a program that asks the user for the speed of a vehicle (in miles per hour) \n",
    "and the number of hours it has traveled. It should then use a loop to display the distance \n",
    "the vehicle has traveled for each hour of that time period. Here is an example of the desired \n",
    "output:\n",
    "What is the speed of the vehicle in mph? 40 Enter\n",
    "How many hours has it traveled? 3 Enter\n",
    "Hour Distance Traveled\n",
    "1 40\n",
    "2 80\n",
    "3 120</pre>"
   ]
  },
  {
   "cell_type": "code",
   "execution_count": 9,
   "metadata": {},
   "outputs": [
    {
     "name": "stdout",
     "output_type": "stream",
     "text": [
      "1 : 40\n",
      "2 : 80\n",
      "3 : 120\n"
     ]
    }
   ],
   "source": [
    "speed_input = int(input(\"enter the speed traveled: \"))\n",
    "time_input = int(input(\"enter how many hours it will travel: \"))\n",
    "distance = 0\n",
    "\n",
    "for i in range(time_input + 1):\n",
    "    if (i != 0):\n",
    "        distance = i * speed_input\n",
    "        print(i,\":\", distance)"
   ]
  },
  {
   "cell_type": "markdown",
   "metadata": {},
   "source": [
    "<h3>Question 5</h3>\n",
    "<pre>\n",
    "Write a program that uses nested loops to collect data and calculate the average rainfall over \n",
    "a period of years. The program should first ask for the number of years. The outer loop will \n",
    "iterate once for each year. The inner loop will iterate twelve times, once for each month. \n",
    "Each iteration of the inner loop will ask the user for the inches of rainfall for that month. \n",
    "After all iterations, the program should display the number of months, the total inches of \n",
    "rainfall, and the average rainfall per month for the entire period.</pre>"
   ]
  },
  {
   "cell_type": "markdown",
   "metadata": {},
   "source": [
    "\n",
    "<h5>pseudocode:</h5>\n",
    "<pre>\n",
    "constant list [each month]\n",
    "loop for number years outer\n",
    "    inner loop for 12 months\n",
    "        ask 12 times for each month using constant as guider\n",
    "            dictionary for kvp k=month v=enter data\n",
    "            sum += each value\n",
    "    once done with inner loop : \n",
    "        divide sum by 12, \n",
    "        print everything\n",
    "        clean dict and sum\n",
    "        </pre>"
   ]
  },
  {
   "cell_type": "code",
   "execution_count": 69,
   "metadata": {},
   "outputs": [
    {
     "name": "stdout",
     "output_type": "stream",
     "text": [
      "The rainfall for each month is:\n",
      "january  :  1.0\n",
      "february  :  2.0\n",
      "march  :  3.0\n",
      "april  :  4.0\n",
      "may  :  5.0\n",
      "june  :  6.0\n",
      "july  :  7.0\n",
      "august  :  8.0\n",
      "september  :  9.0\n",
      "october  :  10.0\n",
      "november  :  11.0\n",
      "december  :  12.0\n",
      "The average rainfall for that year is: 6.5\n",
      "That year is finished, we will move to the next year\n",
      "-----------------------------------------------------------\n",
      "The rainfall for each month is:\n",
      "january  :  12.0\n",
      "february  :  11.0\n",
      "march  :  10.0\n",
      "april  :  9.0\n",
      "may  :  8.0\n",
      "june  :  7.0\n",
      "july  :  6.0\n",
      "august  :  5.0\n",
      "september  :  4.0\n",
      "october  :  3.0\n",
      "november  :  2.0\n",
      "december  :  1.0\n",
      "The average rainfall for that year is: 6.5\n",
      "That year is finished, we will move to the next year\n",
      "-----------------------------------------------------------\n"
     ]
    }
   ],
   "source": [
    "CONSTANT_MONTHS = ['january', 'february', 'march', 'april', 'may', 'june', 'july', 'august', 'september', 'october', 'november', 'december']\n",
    "years_input = int(input(\"Enter the number of years to count: \"))\n",
    "\n",
    "total_yearly_drops = 0\n",
    "individual_year_drop = {}\n",
    "\n",
    "for year in range(years_input):\n",
    "    for month in CONSTANT_MONTHS:\n",
    "        monthly_drop = float(input(\"Enter the rainfall for \" + month + \": \"))\n",
    "        individual_year_drop[month] = monthly_drop\n",
    "        total_yearly_drops += monthly_drop\n",
    "\n",
    "    print(\"The rainfall for each month is:\")\n",
    "    for month, data in individual_year_drop.items():\n",
    "        print(month, \" : \", data)\n",
    "\n",
    "    print(\"The average rainfall for that year is: {yearAverage}\".format(yearAverage = round(total_yearly_drops/12, 2)))\n",
    "    print(\"That year is finished, we will move to the next year, if any\")\n",
    "    print(\"-----------------------------------------------------------\")\n",
    "\n",
    "    # Reset for the next year\n",
    "    individual_year_drop = {}\n",
    "    total_yearly_drops = 0\n",
    "\n"
   ]
  },
  {
   "cell_type": "markdown",
   "metadata": {},
   "source": [
    "<h3>Question 6</h3>\n",
    "<pre>\n",
    "Write a program that displays a table of distances in miles and their equivalent distances in \n",
    "kilometers, rounded to 2 decimal places. One mile is equivalent to 1.60934 kilometers. The \n",
    "table should be generated using a loop, and should include values in 10 mile increments from \n",
    "10 to 80.</pre>"
   ]
  },
  {
   "cell_type": "code",
   "execution_count": 9,
   "metadata": {},
   "outputs": [
    {
     "name": "stdout",
     "output_type": "stream",
     "text": [
      "KM |  MILE\n",
      "----------\n",
      "10 : 16.09\n",
      "20 : 32.19\n",
      "30 : 48.28\n",
      "40 : 64.37\n",
      "50 : 80.47\n",
      "60 : 96.56\n",
      "70 : 112.65\n"
     ]
    }
   ],
   "source": [
    "CONVERTER =  1.60934\n",
    "mile_to_km = {}\n",
    "\n",
    "for mile in range(10,80,10):\n",
    "    km = mile * CONVERTER\n",
    "    mile_to_km[mile] = km\n",
    "\n",
    "    \n",
    "print(\"KM |  MILE\\n----------\")\n",
    "for mile, km in mile_to_km.items():\n",
    "    print(mile, \":\", round(km,2))\n"
   ]
  },
  {
   "cell_type": "markdown",
   "metadata": {},
   "source": [
    "<h3>Question 7</h3>\n",
    "<pre>\n",
    "Write a program that calculates the amount of money a person would earn over a period of \n",
    "time if his or her salary is one penny the first day, two pennies the second day, and continues to double each day. The program should ask the user for the number of days. Display \n",
    "a table showing what the salary was for each day, then show the total pay at the end of the \n",
    "period. The output should be displayed in a dollar amount, not the number of pennies.</pre>"
   ]
  },
  {
   "cell_type": "code",
   "execution_count": 12,
   "metadata": {},
   "outputs": [
    {
     "name": "stdout",
     "output_type": "stream",
     "text": [
      "Day\tSalary\t\tTotal Pay\n",
      "5\t$0.16\t\t$0.31\n"
     ]
    }
   ],
   "source": [
    "days = int(input(\"Enter the number of days: \"))\n",
    "total_pay = 0\n",
    "print(\"Day\\tSalary\\t\\tTotal Pay\")\n",
    "\n",
    "for day in range(1, days + 1):\n",
    "    salary = 2 ** (day - 1)\n",
    "    total_pay += salary\n",
    "    \n",
    "\n",
    "print(f\"{day}\\t${salary / 100:.2f}\\t\\t${total_pay / 100:.2f}\")"
   ]
  },
  {
   "cell_type": "markdown",
   "metadata": {},
   "source": [
    "<h3>Question 8</h3>\n",
    "<pre>\n",
    "Write a program with a loop that repeatedly asks the user to enter a word. The user should \n",
    "enter nothing (press Enter without typing anything) to signal the end of the loop. Once the \n",
    "loop ends, the program should display the average length of the words entered, rounded to \n",
    "the nearest whole number.</pre>"
   ]
  },
  {
   "cell_type": "code",
   "execution_count": 12,
   "metadata": {},
   "outputs": [
    {
     "name": "stdout",
     "output_type": "stream",
     "text": [
      "0\n"
     ]
    }
   ],
   "source": [
    "word_input = input(\"enter a word, or press ENTER to exit:\")\n",
    "word_len = len(word_input)\n",
    "\n",
    "while(word_len >= 1):\n",
    "    print(f'the word {word_input} you enter has a length of: {word_len}')\n",
    "    word_input = input(\"enter a word, or press ENTER to exit:\")\n",
    "    word_len = len(word_input)\n",
    "\n",
    "print(\"end of program\")\n"
   ]
  },
  {
   "cell_type": "markdown",
   "metadata": {},
   "source": [
    "<h3>Question 9</h3>\n",
    "<pre>\n",
    "Assuming the ocean’s level is currently rising at about 1.6 millimeters per year, create an \n",
    "application that displays the number of millimeters that the ocean will have risen each year \n",
    "for the next 25 years.\n",
    "</pre>"
   ]
  },
  {
   "cell_type": "code",
   "execution_count": 34,
   "metadata": {},
   "outputs": [
    {
     "name": "stdout",
     "output_type": "stream",
     "text": [
      "the ocean will have risen by 40.0mm after 25 years\n"
     ]
    }
   ],
   "source": [
    "def ocean_increase(rise, year):\n",
    "    if (year == 1):\n",
    "        return rise\n",
    "    else:\n",
    "        return ocean_increase(rise, year-1) + rise\n",
    "\n",
    "final_increase = round(ocean_increase(1.6,25),2)\n",
    "\n",
    "print(f'the ocean will have risen by {final_increase}mm after 25 years')"
   ]
  },
  {
   "cell_type": "code",
   "execution_count": 35,
   "metadata": {},
   "outputs": [
    {
     "name": "stdout",
     "output_type": "stream",
     "text": [
      "the ocrean will have risen by 40.0mm after 25 years\n"
     ]
    }
   ],
   "source": [
    "INCREASE = 1.6\n",
    "total_increase = 0\n",
    "\n",
    "for i in range(25):\n",
    "    total_increase += INCREASE\n",
    "\n",
    "print(f'the ocrean will have risen by {round(total_increase,2)}mm after 25 years')"
   ]
  },
  {
   "cell_type": "markdown",
   "metadata": {},
   "source": [
    "<h3>Question 10</h3>\n",
    "<pre>\n",
    "At one college, the tuition for a full-time student is $8,000 per semester. It has been announced \n",
    "that the tuition will increase by 3 percent each year for the next 5 years. Write a program \n",
    "with a loop that displays the projected semester tuition amount for the next 5 years.\n",
    "</pre>"
   ]
  },
  {
   "cell_type": "code",
   "execution_count": 27,
   "metadata": {},
   "outputs": [
    {
     "name": "stdout",
     "output_type": "stream",
     "text": [
      "the total cost for 5 years at 3% is: 9274.19\n"
     ]
    }
   ],
   "source": [
    "total_cost = 8000\n",
    "\n",
    "for i in range(5):\n",
    "    total_cost += total_cost * 0.03\n",
    "\n",
    "print(f'the total cost for 5 years at 3% is: {round(total_cost,2)}')"
   ]
  },
  {
   "cell_type": "code",
   "execution_count": 28,
   "metadata": {},
   "outputs": [
    {
     "name": "stdout",
     "output_type": "stream",
     "text": [
      "the total cost after 5 years at 3% is 9274.19\n"
     ]
    }
   ],
   "source": [
    "#aproach 2\n",
    "\n",
    "total_cost = 0\n",
    "current_cost = 8000\n",
    "\n",
    "def tuition_calc(cost, years):\n",
    "    if years == 0:\n",
    "        return cost\n",
    "    else:\n",
    "        cost += cost * 0.03\n",
    "        return tuition_calc(cost, years - 1)\n",
    "\n",
    "total_cost = tuition_calc(current_cost,5)\n",
    "print(f'the total cost after 5 years at 3% is {round(total_cost,2)}')"
   ]
  },
  {
   "cell_type": "markdown",
   "metadata": {},
   "source": [
    "<h3>Question 11</h3>\n",
    "<pre>\n",
    "A “sleep debt” represents the difference between a person’s desirable and actual amount \n",
    "of sleep. Write a program that prompts the user to enter how many hours they slept each \n",
    "day over a period of seven days. Using 8 hours per day as the desirable amount of sleep, \n",
    "determine their sleep debt by calculating the total hours of sleep they got over the seven-day \n",
    "period and subtracting that from the total hours of sleep they should have got. If the user \n",
    "does not have a sleep debt, display a message expressing your jealousy.</pre>"
   ]
  },
  {
   "cell_type": "code",
   "execution_count": 17,
   "metadata": {},
   "outputs": [
    {
     "name": "stdout",
     "output_type": "stream",
     "text": [
      "you owe a sleep debt of 8 hours for a breakdown of: \n",
      "monday  :  2\n",
      "tuesday  :  1\n",
      "wednesday  :  2\n",
      "thursday  :  0\n",
      "friday  :  1\n",
      "saturday  :  2\n",
      "sunday  :  0\n"
     ]
    }
   ],
   "source": [
    "day_of_week = ['monday', 'tuesday', 'wednesday', 'thursday','friday', 'saturday', 'sunday']\n",
    "DESIRED_SLEEP = 8\n",
    "weekly_sleep_debt = {}\n",
    "sum_of_sleep_debt = 0\n",
    "\n",
    "for day in day_of_week:\n",
    "    actual_sleep = int(input(f\"enter how many days you slept on {day}\"))\n",
    "    difference = DESIRED_SLEEP - actual_sleep\n",
    "    weekly_sleep_debt[day] = difference\n",
    "    sum_of_sleep_debt += difference\n",
    "\n",
    "print(f'you owe a sleep debt of {sum_of_sleep_debt} hours for a breakdown of: ')\n",
    "\n",
    "for day, sleep in weekly_sleep_debt.items():\n",
    "    print(day, \" : \", sleep )\n",
    "\n"
   ]
  },
  {
   "cell_type": "markdown",
   "metadata": {},
   "source": [
    "<h3>Question 12</h3>\n",
    "<pre>\n",
    "In mathematics, the notation n! represents the factorial of the nonnegative integer n. The \n",
    "factorial of n is the product of all the nonnegative integers from 1 to n. For example,\n",
    "7! 5 1 3 2 3 3 3 4 3 5 3 6 3 7 5 5,040\n",
    "and\n",
    " 4! 5 1 3 2 3 3 3 4 5 24\n",
    "Write a program that lets the user enter a nonnegative integer then uses a loop to calculate \n",
    "the factorial of that number. Display the factorial.</pre>"
   ]
  },
  {
   "cell_type": "code",
   "execution_count": 8,
   "metadata": {},
   "outputs": [
    {
     "name": "stdout",
     "output_type": "stream",
     "text": [
      "5040\n"
     ]
    }
   ],
   "source": [
    "user_input = int(input(\"enter a non negative number: \"))\n",
    "\n",
    "while(user_input < 0):\n",
    "    user_input = int(input(f'{user_input}  is not a valid entry, enter a non negative number:  '))\n",
    "\n",
    "\n",
    "def calculate_factorial(num : int):\n",
    "    if (num <= 1):\n",
    "        return num\n",
    "    else:\n",
    "        return calculate_factorial(num - 1) * num\n",
    "\n",
    "\n",
    "print(calculate_factorial(user_input))   # try 1: -7   try 2: 7\n"
   ]
  },
  {
   "cell_type": "markdown",
   "metadata": {},
   "source": [
    "<h3>Question 13</h3>\n",
    "<pre>\n",
    "Write a program that predicts the approximate size of a population of organisms. The \n",
    "application should use text boxes to allow the user to enter the starting number of organ\u0002isms, the average daily population increase (as a percentage), and the number of days the \n",
    "organisms will be left to multiply. For example, assume the user enters the following values:\n",
    "Starting number of organisms: 2\n",
    "Average daily increase: 30%\n",
    "Number of days to multiply: 10\n",
    "The program should display the following table of data:\n",
    "Day Approximate Population\n",
    "1 2\n",
    "2 2.6\n",
    "3 3.38\n",
    "4 4.394\n",
    "5 5.7122\n",
    "6 7.42586\n",
    "7 9.653619\n",
    "8 12.5497\n",
    "9 16.31462\n",
    "10 21.209</pre>"
   ]
  },
  {
   "cell_type": "markdown",
   "metadata": {},
   "source": [
    "<h5> pseudocode </h5>\n",
    "<pre>\n",
    "input = number at start, percentage (div by 100), numberDays, dict to store\n",
    "loop until num days:\n",
    "    start += percentage increase\n",
    "    store K and V in dict \n",
    "\n",
    "print dict </pre>\n"
   ]
  },
  {
   "cell_type": "code",
   "execution_count": 33,
   "metadata": {},
   "outputs": [
    {
     "name": "stdout",
     "output_type": "stream",
     "text": [
      "breakdown of organism increase: \n",
      "1  :  4.0\n",
      "2  :  6.0\n",
      "3  :  9.0\n",
      "4  :  13.5\n",
      "5  :  20.25\n",
      "6  :  30.38\n",
      "7  :  45.56\n",
      "8  :  68.34\n",
      "9  :  102.52\n",
      "10  :  153.77\n",
      "11  :  230.66\n",
      "12  :  345.99\n",
      "13  :  518.99\n",
      "14  :  778.48\n",
      "15  :  1167.72\n"
     ]
    }
   ],
   "source": [
    "organism = float(input(\"enter the number of organism: \"))\n",
    "percentage_increase = float(input(\"enter the percentage amount: \")) / 100\n",
    "number_days = int(input(\"enter the number of days: \"))\n",
    "organism_storage = {}\n",
    "organism_storage[0] = organism\n",
    "\n",
    "for day in range(number_days - 1 ):\n",
    "    date_convert = day + 1\n",
    "    organism +=  percentage_increase * organism\n",
    "    organism_storage[date_convert] = organism\n",
    "\n",
    "print(\"breakdown of organism increase: \")\n",
    "for day, org in organism_storage.items():\n",
    "    real_day = day + 1\n",
    "    print(real_day, \" : \", round(org,2))\n"
   ]
  },
  {
   "cell_type": "markdown",
   "metadata": {},
   "source": [
    "<h3>Question 14</h3>\n",
    "<pre>\n",
    "Write a program that uses nested loops to draw this pattern:\n",
    "*******\n",
    "******\n",
    "*****\n",
    "****\n",
    "***\n",
    "**\n",
    "*</pre>"
   ]
  },
  {
   "cell_type": "code",
   "execution_count": 1,
   "metadata": {},
   "outputs": [
    {
     "name": "stdout",
     "output_type": "stream",
     "text": [
      "*******\n",
      "******\n",
      "*****\n",
      "****\n",
      "***\n",
      "**\n",
      "*\n"
     ]
    }
   ],
   "source": [
    "# approach 1\n",
    "def star_printer(rows):\n",
    "    if (rows == 1):\n",
    "        return \"*\"\n",
    "    else:\n",
    "        print(\"*\" * rows)\n",
    "        return star_printer(rows - 1)\n",
    "\n",
    "print(star_printer(7))"
   ]
  },
  {
   "cell_type": "code",
   "execution_count": 1,
   "metadata": {},
   "outputs": [
    {
     "name": "stderr",
     "output_type": "stream",
     "text": [
      "\n",
      "KeyboardInterrupt\n",
      "\n"
     ]
    }
   ],
   "source": [
    "the_list = []\n",
    "num = 0\n",
    "while(True):\n",
    "    the_list.append(num)\n"
   ]
  },
  {
   "cell_type": "code",
   "execution_count": 30,
   "metadata": {},
   "outputs": [
    {
     "name": "stdout",
     "output_type": "stream",
     "text": [
      "*******\n",
      "******\n",
      "*****\n",
      "****\n",
      "***\n",
      "**\n",
      "*\n"
     ]
    }
   ],
   "source": [
    "#appraoch 2 O(n^2)\n",
    "\n",
    "for i in range(7,0,-1):\n",
    "    for k in range(i):\n",
    "        print(\"*\", end=\"\")\n",
    "    print()"
   ]
  },
  {
   "cell_type": "code",
   "execution_count": 39,
   "metadata": {},
   "outputs": [
    {
     "name": "stdout",
     "output_type": "stream",
     "text": [
      "******* \n",
      "\n",
      "****** \n",
      "\n",
      "***** \n",
      "\n",
      "**** \n",
      "\n",
      "*** \n",
      "\n",
      "** \n",
      "\n",
      "* \n",
      "\n"
     ]
    }
   ],
   "source": [
    "#more efficient approach O(7)\n",
    "for i in range(7,0,-1):\n",
    "    print(\"*\"* i,\"\\n\" )"
   ]
  },
  {
   "cell_type": "markdown",
   "metadata": {},
   "source": [
    "<h3>Question 15</h3>\n",
    "<pre>\n",
    " Write a program that uses nested loops to draw this pattern:\n",
    "##\n",
    "# #\n",
    "#  #\n",
    "#   #\n",
    "#    #\n",
    "#     #\n",
    "</pre>"
   ]
  },
  {
   "cell_type": "code",
   "execution_count": 27,
   "metadata": {},
   "outputs": [
    {
     "name": "stdout",
     "output_type": "stream",
     "text": [
      "##\n",
      "# #\n",
      "#  #\n",
      "#   #\n",
      "#    #\n",
      "#     #\n"
     ]
    }
   ],
   "source": [
    "for i in range(6 + 1):\n",
    "    if (i == 6):\n",
    "        for k in range(i):\n",
    "            print(\"#\" + \" \" * k + \"#\")"
   ]
  }
 ],
 "metadata": {
  "kernelspec": {
   "display_name": "Python 3",
   "language": "python",
   "name": "python3"
  },
  "language_info": {
   "codemirror_mode": {
    "name": "ipython",
    "version": 3
   },
   "file_extension": ".py",
   "mimetype": "text/x-python",
   "name": "python",
   "nbconvert_exporter": "python",
   "pygments_lexer": "ipython3",
   "version": "3.9.7"
  }
 },
 "nbformat": 4,
 "nbformat_minor": 2
}
