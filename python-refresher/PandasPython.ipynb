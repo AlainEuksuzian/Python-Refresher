{
 "cells": [
  {
   "cell_type": "markdown",
   "metadata": {},
   "source": [
    "Assume a file containing a series of integers is named numbers.txt and exists on the com\u0002puter’s disk. Write a program that displays all of the values and average"
   ]
  },
  {
   "cell_type": "code",
   "execution_count": 2,
   "metadata": {},
   "outputs": [],
   "source": [
    "import pandas as pd"
   ]
  },
  {
   "cell_type": "code",
   "execution_count": 9,
   "metadata": {},
   "outputs": [
    {
     "name": "stdout",
     "output_type": "stream",
     "text": [
      "1\n",
      "2\n",
      "3\n",
      "4\n",
      "5\n",
      "6\n",
      "7\n",
      "8\n",
      "9\n",
      "10\n",
      "the average is: 5.5\n"
     ]
    }
   ],
   "source": [
    "#aprach 1\n",
    "\n",
    "def main():\n",
    "    \n",
    "    with open(r'C:\\Users\\Alain E\\Desktop\\python\\python-refresher\\textFiles\\numbers.txt') as file_open:\n",
    "        counter = 0\n",
    "        sum = 0\n",
    "        for element in file_open:\n",
    "            print(element, end=\"\")\n",
    "            sum += int(element)\n",
    "            counter +=1\n",
    "        print()\n",
    "    average = sum / (counter)\n",
    "\n",
    "    print(f'the average is: {round(average,2)}')\n",
    "                    \n",
    "\n",
    "\n",
    "\n",
    "main()\n",
    "\n"
   ]
  },
  {
   "cell_type": "code",
   "execution_count": 9,
   "metadata": {},
   "outputs": [
    {
     "name": "stdout",
     "output_type": "stream",
     "text": [
      "1\n",
      "2\n",
      "3\n",
      "4\n",
      "5\n",
      "6\n",
      "7\n",
      "8\n",
      "9\n",
      "10\n",
      "the average is 5.5\n"
     ]
    }
   ],
   "source": [
    "def main():\n",
    "    try:\n",
    "        dataframe = pd.read_csv(r'C:\\Users\\Alain E\\Desktop\\python\\python-refresher\\textFiles\\numbers.txt', names=['Numbers'])\n",
    "    except FileNotFoundError as e:\n",
    "        print(e)\n",
    "    display_data(dataframe['Numbers'])\n",
    "\n",
    "    average = compute_average(dataframe['Numbers'])\n",
    "\n",
    "    print(f'the average is {round(average,2)}')\n",
    "\n",
    "\n",
    "    \n",
    "def display_data(dataset):\n",
    "    for i in dataset:\n",
    "        print(i)\n",
    "\n",
    "def compute_average(dataset):\n",
    "    sum = 0\n",
    "    count = 0\n",
    "\n",
    "    for i in dataset:\n",
    "        sum += i\n",
    "        count += 1\n",
    "    return sum/count\n",
    "\n",
    "\n",
    "main()"
   ]
  },
  {
   "cell_type": "markdown",
   "metadata": {},
   "source": [
    "2. File Head Display\n",
    "Write a program that asks the user for the name of a file. The program should display only \n",
    "the first five lines of the file’s contents. If the file contains less than five lines, it should \n",
    "display the file’s entire contents."
   ]
  },
  {
   "cell_type": "code",
   "execution_count": 26,
   "metadata": {},
   "outputs": [
    {
     "name": "stdout",
     "output_type": "stream",
     "text": [
      "1\n",
      "2\n",
      "3\n",
      "4\n",
      "5\n"
     ]
    }
   ],
   "source": [
    "def main():\n",
    "    file_name = input(\"Enter the name of the file: \")\n",
    "    try:\n",
    "        with open(file_name) as file:\n",
    "            for line_number, line in enumerate(file):\n",
    "                if line_number == 5: \n",
    "                    break\n",
    "                print(line.strip())\n",
    "    except FileNotFoundError as e:\n",
    "        print(e)\n",
    "\n",
    "main()"
   ]
  },
  {
   "cell_type": "code",
   "execution_count": 25,
   "metadata": {},
   "outputs": [
    {
     "name": "stdout",
     "output_type": "stream",
     "text": [
      "1\n",
      "2\n",
      "3\n",
      "4\n",
      "5\n"
     ]
    }
   ],
   "source": [
    "import pandas as pd\n",
    "def main():\n",
    "    file_name = \"\"\n",
    "    dataframe = \"\"\n",
    "\n",
    "    try:\n",
    "        file_name = input(\"enter the name of the file: \")\n",
    "        dataframe = pd.read_csv(file_name, names = ['numbers'])\n",
    "\n",
    "    except FileNotFoundError as e:\n",
    "        print(e)\n",
    "    display_content(dataframe['numbers'])\n",
    "\n",
    "    \n",
    "\n",
    "def display_content(dataframe):\n",
    "    counter = 0\n",
    "    if len(dataframe) >= 5:\n",
    "        counter = 5\n",
    "    else: \n",
    "        counter = len(dataframe)\n",
    "    \n",
    "    for counter, element in zip(range(counter), dataframe):\n",
    "        print(element)\n",
    "\n",
    "\n",
    "\n",
    "main()"
   ]
  }
 ],
 "metadata": {
  "kernelspec": {
   "display_name": "Python 3",
   "language": "python",
   "name": "python3"
  },
  "language_info": {
   "codemirror_mode": {
    "name": "ipython",
    "version": 3
   },
   "file_extension": ".py",
   "mimetype": "text/x-python",
   "name": "python",
   "nbconvert_exporter": "python",
   "pygments_lexer": "ipython3",
   "version": "3.9.7"
  }
 },
 "nbformat": 4,
 "nbformat_minor": 2
}
