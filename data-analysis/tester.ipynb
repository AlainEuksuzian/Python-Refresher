{
 "cells": [
  {
   "cell_type": "code",
   "execution_count": 1,
   "metadata": {},
   "outputs": [],
   "source": [
    "import pandas as pd\n",
    "import numpy as np\n",
    "from IPython.display import display\n",
    "import matplotlib.pyplot as plt\n",
    "pd.set_option('max_columns', 10, 'max_rows', 10)"
   ]
  },
  {
   "cell_type": "code",
   "execution_count": 2,
   "metadata": {},
   "outputs": [
    {
     "data": {
      "text/plain": [
       "pandas.core.indexes.range.RangeIndex"
      ]
     },
     "execution_count": 2,
     "metadata": {},
     "output_type": "execute_result"
    }
   ],
   "source": [
    "dataframe = pd.read_csv('movie.csv')\n",
    "type(dataframe.index)"
   ]
  },
  {
   "cell_type": "code",
   "execution_count": 5,
   "metadata": {},
   "outputs": [
    {
     "name": "stdout",
     "output_type": "stream",
     "text": [
      "arax\n"
     ]
    }
   ],
   "source": [
    "directors = dataframe['director_name'].tolist()\n",
    "likes = dataframe['director_facebook_likes'].tolist()\n",
    "cleaned_directors = []\n",
    "cleaned_likes = []\n",
    "\n",
    "\n",
    "for direc, like, in zip(directors, likes):\n",
    "    if not pd.isna(direc) and not pd.isna(like):\n",
    "        cleaned_directors.append(direc)\n",
    "        cleaned_likes.append(like)"
   ]
  },
  {
   "cell_type": "code",
   "execution_count": 108,
   "metadata": {},
   "outputs": [
    {
     "name": "stdout",
     "output_type": "stream",
     "text": [
      "Tony Scott 12000.0\n",
      "Kevin Lima 36.0\n"
     ]
    }
   ],
   "source": [
    "directors = dataframe['director_name'].tolist()\n",
    "likes = dataframe['director_facebook_likes'].sub(0, fill_value=-1).tolist()\n",
    "cleaned_directors = []\n",
    "cleaned_likes = []\n",
    "for direct, like in zip(directors, likes):\n",
    "    if (like != -1):\n",
    "        cleaned_directors.append(direct)\n",
    "        cleaned_likes.append(like)"
   ]
  },
  {
   "cell_type": "code",
   "execution_count": null,
   "metadata": {},
   "outputs": [],
   "source": []
  },
  {
   "cell_type": "code",
   "execution_count": 145,
   "metadata": {},
   "outputs": [
    {
     "data": {
      "text/plain": [
       "7348.29"
      ]
     },
     "execution_count": 145,
     "metadata": {},
     "output_type": "execute_result"
    }
   ],
   "source": [
    "sum = 0;counter = 0\n",
    "for i in dataframe['movie_facebook_likes']:\n",
    "    if not pd.isnull(i):\n",
    "        sum += i\n",
    "        counter +=1\n",
    "\n",
    "average = sum / counter\n",
    "round(average,2)"
   ]
  },
  {
   "cell_type": "code",
   "execution_count": 2,
   "metadata": {},
   "outputs": [
    {
     "data": {
      "text/plain": [
       "'2.3.2'"
      ]
     },
     "execution_count": 2,
     "metadata": {},
     "output_type": "execute_result"
    }
   ],
   "source": [
    "import flask\n",
    "\n",
    "flask.__version__"
   ]
  }
 ],
 "metadata": {
  "kernelspec": {
   "display_name": "Python 3",
   "language": "python",
   "name": "python3"
  },
  "language_info": {
   "codemirror_mode": {
    "name": "ipython",
    "version": 3
   },
   "file_extension": ".py",
   "mimetype": "text/x-python",
   "name": "python",
   "nbconvert_exporter": "python",
   "pygments_lexer": "ipython3",
   "version": "3.9.7"
  }
 },
 "nbformat": 4,
 "nbformat_minor": 2
}
